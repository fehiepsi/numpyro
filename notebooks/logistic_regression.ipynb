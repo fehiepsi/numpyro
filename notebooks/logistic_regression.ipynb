{
 "cells": [
  {
   "cell_type": "markdown",
   "metadata": {},
   "source": [
    "This notebook uses `numpyro` and replicates experiments in references [1] and [2] which evaluates the performance of HMC/NUTS on various frameworks. The benchmark is run with CUDA 10.0 on a NVIDIA RTX 2070."
   ]
  },
  {
   "cell_type": "code",
   "execution_count": 1,
   "metadata": {},
   "outputs": [],
   "source": [
    "%matplotlib inline\n",
    "\n",
    "import time\n",
    "\n",
    "import matplotlib.pyplot as plt\n",
    "import numpy as onp\n",
    "import tqdm\n",
    "from sklearn.datasets import fetch_covtype\n",
    "\n",
    "import jax.numpy as np\n",
    "from jax import jit, random\n",
    "# NB: replace gpu by cpu to run this notebook in cpu\n",
    "from jax.config import config; config.update(\"jax_platform_name\", \"gpu\")\n",
    "from jax.tree_util import tree_map, tree_multimap\n",
    "\n",
    "import numpyro.distributions as dist\n",
    "from numpyro.handlers import sample\n",
    "from numpyro.hmc_util import initialize_model\n",
    "from numpyro.mcmc import hmc_kernel"
   ]
  },
  {
   "cell_type": "markdown",
   "metadata": {},
   "source": [
    "We do preprocessing steps as in [source code](https://github.com/google-research/google-research/blob/master/simple_probabilistic_programming/no_u_turn_sampler/logistic_regression.py) of reference [2]:"
   ]
  },
  {
   "cell_type": "code",
   "execution_count": 2,
   "metadata": {},
   "outputs": [
    {
     "name": "stdout",
     "output_type": "stream",
     "text": [
      "Data shape: (581012, 55)\n",
      "Label distribution: 211840 has label 1, 369172 has label 0\n"
     ]
    }
   ],
   "source": [
    "data = fetch_covtype()\n",
    "features = data.data\n",
    "labels = data.target\n",
    "\n",
    "# normalize features and add intercept\n",
    "features = (features - features.mean(0)) / features.std(0)\n",
    "features = np.hstack([features, np.ones((features.shape[0], 1))])\n",
    "\n",
    "# make binary feature\n",
    "_, counts = onp.unique(labels, return_counts=True)\n",
    "specific_category = np.argmax(counts)\n",
    "labels = (labels == specific_category)\n",
    "\n",
    "N, dim = features.shape\n",
    "print(\"Data shape:\", features.shape)\n",
    "print(\"Label distribution: {} has label 1, {} has label 0\"\n",
    "      .format(labels.sum(), N - labels.sum()))"
   ]
  },
  {
   "cell_type": "markdown",
   "metadata": {},
   "source": [
    "Now, we construct the model:"
   ]
  },
  {
   "cell_type": "code",
   "execution_count": 3,
   "metadata": {},
   "outputs": [],
   "source": [
    "def model(data, labels):\n",
    "    coefs = sample('coefs', dist.norm(np.zeros(dim), np.ones(dim)))\n",
    "    logits = np.dot(data, coefs)\n",
    "    return sample('obs', dist.bernoulli(logits, is_logits=True), obs=labels)"
   ]
  },
  {
   "cell_type": "markdown",
   "metadata": {},
   "source": [
    "And make a convenience mcmc implementation:"
   ]
  },
  {
   "cell_type": "code",
   "execution_count": 4,
   "metadata": {},
   "outputs": [],
   "source": [
    "def mcmc(sample_kernel, state, num_samples, transform):\n",
    "    for i in tqdm.tqdm(range(num_samples)):\n",
    "        state = sample_kernel(state)\n",
    "        state_out = transform(tree_map(lambda x: np.expand_dims(x, axis=0), state))\n",
    "        if i == 0:\n",
    "            states = state_out\n",
    "        else:\n",
    "            states = tree_multimap(lambda x, y: np.concatenate((x, y))\n",
    "                                   if x is not None else None, states, state_out)\n",
    "    return states"
   ]
  },
  {
   "cell_type": "markdown",
   "metadata": {},
   "source": [
    "### Benchmark HMC"
   ]
  },
  {
   "cell_type": "code",
   "execution_count": 5,
   "metadata": {},
   "outputs": [
    {
     "name": "stdout",
     "output_type": "stream",
     "text": [
      "time to compile sample_kernel: 2.626819610595703\n"
     ]
    }
   ],
   "source": [
    "num_steps, num_samples = 10, 100\n",
    "step_size = np.sqrt(0.5 / N)\n",
    "init_params = {\"coefs\": np.zeros(dim)}\n",
    "\n",
    "_, potential_fn = initialize_model(random.PRNGKey(1), model, (features, labels,), {})\n",
    "init_kernel, sample_kernel = hmc_kernel(potential_fn, algo=\"HMC\")\n",
    "hmc_state, _, _ = init_kernel(init_params, num_warmup_steps=0, step_size=step_size,\n",
    "                              num_steps=num_steps, run_warmup=False)\n",
    "\n",
    "jsample_kernel = jit(sample_kernel)\n",
    "start = time.time()\n",
    "hmc_state = hmc_state.update(step_size=1.)  # HACK: force fast compiling!\n",
    "jsample_kernel(hmc_state)\n",
    "hmc_state = hmc_state.update(step_size=step_size)\n",
    "print(\"time to compile sample_kernel:\", time.time() - start)"
   ]
  },
  {
   "cell_type": "code",
   "execution_count": 6,
   "metadata": {},
   "outputs": [
    {
     "name": "stderr",
     "output_type": "stream",
     "text": [
      "100%|██████████| 100/100 [00:19<00:00,  5.23it/s]\n"
     ]
    },
    {
     "name": "stdout",
     "output_type": "stream",
     "text": [
      "number of leapfrog steps: 1000\n",
      "avg. time for each step : 0.019120337963104247\n"
     ]
    }
   ],
   "source": [
    "start = time.time()\n",
    "hmc_states = mcmc(jsample_kernel, hmc_state, num_samples,\n",
    "                  transform=lambda state: {\"coefs\": state.z[\"coefs\"],\n",
    "                                           \"num_steps\": state.num_steps})\n",
    "num_leapfrogs = np.sum(hmc_states[\"num_steps\"]).copy()\n",
    "print(\"number of leapfrog steps:\", num_leapfrogs)\n",
    "print(\"avg. time for each step :\", (time.time() - start) / num_leapfrogs)"
   ]
  },
  {
   "cell_type": "markdown",
   "metadata": {},
   "source": [
    "In CPU, we get `avg. time for each step : 0.04372366189956665`."
   ]
  },
  {
   "cell_type": "code",
   "execution_count": 7,
   "metadata": {},
   "outputs": [
    {
     "data": {
      "image/png": "[encoded data removed]",
      "text/plain": [
       "<Figure size 432x288 with 1 Axes>"
      ]
     },
     "metadata": {
      "needs_background": "light"
     },
     "output_type": "display_data"
    }
   ],
   "source": [
    "plt.plot(hmc_states[\"coefs\"][:, 0]);"
   ]
  },
  {
   "cell_type": "markdown",
   "metadata": {},
   "source": [
    "### Benchmark NUTS"
   ]
  },
  {
   "cell_type": "code",
   "execution_count": 8,
   "metadata": {},
   "outputs": [],
   "source": [
    "num_samples = 10\n",
    "step_size = 0.00167132\n",
    "init_params = {\"coefs\": np.array(\n",
    "    [+2.03420663e+00, -3.53567265e-02, -1.49223924e-01, -3.07049364e-01,\n",
    "     -1.00028366e-01, -1.46827862e-01, -1.64167881e-01, -4.20344204e-01,\n",
    "     +9.47479829e-02, -1.12681836e-02, +2.64442056e-01, -1.22087866e-01,\n",
    "     -6.00568838e-02, -3.79419506e-01, -1.06668741e-01, -2.97053963e-01,\n",
    "     -2.05253899e-01, -4.69537191e-02, -2.78072730e-02, -1.43250525e-01,\n",
    "     -6.77954629e-02, -4.34899796e-03, +5.90927452e-02, +7.23133609e-02,\n",
    "     +1.38526391e-02, -1.24497898e-01, -1.50733739e-02, -2.68872194e-02,\n",
    "     -1.80925727e-02, +3.47936489e-02, +4.03552800e-02, -9.98773426e-03,\n",
    "     +6.20188080e-02, +1.15002751e-01, +1.32145107e-01, +2.69109547e-01,\n",
    "     +2.45785132e-01, +1.19035013e-01, -2.59744357e-02, +9.94279515e-04,\n",
    "     +3.39266285e-02, -1.44057125e-02, -6.95222765e-02, -7.52013028e-02,\n",
    "     +1.21171586e-01, +2.29205526e-02, +1.47308692e-01, -8.34354162e-02,\n",
    "     -9.34122875e-02, -2.97472421e-02, -3.03937674e-01, -1.70958012e-01,\n",
    "     -1.59496680e-01, -1.88516974e-01, -1.20889175e+00])}"
   ]
  },
  {
   "cell_type": "code",
   "execution_count": 9,
   "metadata": {},
   "outputs": [
    {
     "name": "stdout",
     "output_type": "stream",
     "text": [
      "time to compile sample_kernel: 7.71427059173584\n"
     ]
    }
   ],
   "source": [
    "_, potential_fn = initialize_model(random.PRNGKey(1), model, (features, labels,), {})\n",
    "init_kernel, sample_kernel = hmc_kernel(potential_fn, algo=\"NUTS\")\n",
    "hmc_state, _, _ = init_kernel(init_params, num_warmup_steps=0, step_size=step_size, \n",
    "                              run_warmup=False)\n",
    "\n",
    "jsample_kernel = jit(sample_kernel)\n",
    "start = time.time()\n",
    "hmc_state = hmc_state.update(step_size=1.)  # HACK: force fast compiling!\n",
    "jsample_kernel(hmc_state)\n",
    "hmc_state = hmc_state.update(step_size=step_size)\n",
    "print(\"time to compile sample_kernel:\", time.time() - start)"
   ]
  },
  {
   "cell_type": "code",
   "execution_count": 10,
   "metadata": {},
   "outputs": [
    {
     "name": "stderr",
     "output_type": "stream",
     "text": [
      "100%|██████████| 10/10 [00:13<00:00,  2.03s/it]"
     ]
    },
    {
     "name": "stdout",
     "output_type": "stream",
     "text": [
      "number of leapfrog steps: 3070\n",
      "avg. time for each step : 0.004387063700523749\n"
     ]
    },
    {
     "name": "stderr",
     "output_type": "stream",
     "text": [
      "\n"
     ]
    }
   ],
   "source": [
    "start = time.time()\n",
    "hmc_states = mcmc(jsample_kernel, hmc_state, num_samples,\n",
    "                  transform=lambda state: {\"coefs\": state.z[\"coefs\"],\n",
    "                                           \"num_steps\": state.num_steps})\n",
    "num_leapfrogs = np.sum(hmc_states[\"num_steps\"]).copy()\n",
    "print(\"number of leapfrog steps:\", num_leapfrogs)\n",
    "print(\"avg. time for each step :\", (time.time() - start) / num_leapfrogs)"
   ]
  },
  {
   "cell_type": "markdown",
   "metadata": {},
   "source": [
    "In CPU, we get `avg. time for each step : 0.040541882929973176`."
   ]
  },
  {
   "cell_type": "code",
   "execution_count": 11,
   "metadata": {},
   "outputs": [
    {
     "data": {
      "image/png": "[encoded data removed]",
      "text/plain": [
       "<Figure size 432x288 with 1 Axes>"
      ]
     },
     "metadata": {
      "needs_background": "light"
     },
     "output_type": "display_data"
    }
   ],
   "source": [
    "plt.plot(hmc_states[\"coefs\"][:, 0]);"
   ]
  },
  {
   "cell_type": "markdown",
   "metadata": {},
   "source": [
    "Comparing to HMC with similar trajectory:"
   ]
  },
  {
   "cell_type": "code",
   "execution_count": 13,
   "metadata": {},
   "outputs": [
    {
     "name": "stderr",
     "output_type": "stream",
     "text": [
      "100%|██████████| 10/10 [00:11<00:00,  1.13s/it]"
     ]
    },
    {
     "name": "stdout",
     "output_type": "stream",
     "text": [
      "number of leapfrog steps: 3000\n",
      "avg. time for each step : 0.0037791891892751056\n"
     ]
    },
    {
     "name": "stderr",
     "output_type": "stream",
     "text": [
      "\n"
     ]
    }
   ],
   "source": [
    "num_steps, num_samples = 300, 10\n",
    "step_size = np.sqrt(0.5 / N)\n",
    "init_params = {\"coefs\": np.zeros(dim)}\n",
    "\n",
    "_, potential_fn = initialize_model(random.PRNGKey(1), model, (features, labels,), {})\n",
    "init_kernel, sample_kernel = hmc_kernel(potential_fn, algo=\"HMC\")\n",
    "hmc_state, _, _ = init_kernel(init_params, num_warmup_steps=0, step_size=step_size,\n",
    "                              num_steps=num_steps, run_warmup=False)\n",
    "\n",
    "jsample_kernel = jit(sample_kernel)\n",
    "hmc_state = hmc_state.update(step_size=1.)  # HACK: force fast compiling!\n",
    "jsample_kernel(hmc_state)\n",
    "hmc_state = hmc_state.update(step_size=step_size)\n",
    "\n",
    "start = time.time()\n",
    "hmc_states = mcmc(jsample_kernel, hmc_state, num_samples,\n",
    "                  transform=lambda state: {\"coefs\": state.z[\"coefs\"],\n",
    "                                           \"num_steps\": state.num_steps})\n",
    "num_leapfrogs = np.sum(hmc_states[\"num_steps\"]).copy()\n",
    "print(\"number of leapfrog steps:\", num_leapfrogs)\n",
    "print(\"avg. time for each step :\", (time.time() - start) / num_leapfrogs)"
   ]
  },
  {
   "cell_type": "markdown",
   "metadata": {},
   "source": [
    "Some takeaways:\n",
    "+ The overhead of iterative NUTS is small. So most of computation time is indeed spent for evaluating potential function and its gradient.\n",
    "+ The average speed of long trajectory is better than short trajectory.\n",
    "+ GPU outperforms CPU by a large margin. The data is large, so evaluating potential function in GPU is clearly faster than doing so in CPU.\n",
    "+ Iterative NUTS is 1.7x faster (in both GPU and CPU) than the reported speed in reference [2]. This illustates the win of a graph-mode (built using iterative algorithm) NUTS over an eager-mode (built using recursive algorithm) NUTS."
   ]
  },
  {
   "cell_type": "markdown",
   "metadata": {},
   "source": [
    "### References\n",
    "\n",
    "1. `Deep Probabilistic Programming`, [arxiv](https://arxiv.org/abs/1701.03757)<br/>\n",
    "Dustin Tran, Matthew D. Hoffman, Rif A. Saurous, Eugene Brevdo, Kevin Murphy, David M. Blei\n",
    "\n",
    "2. `Simple, Distributed, and Accelerated Probabilistic Programming,` [arxiv](https://arxiv.org/abs/1811.02091)<br/>\n",
    "Dustin Tran, Matthew D. Hoffman, Dave Moore, Christopher Suter, Srinivas Vasudevan, Alexey Radul, Matthew Johnson, Rif A. Saurous"
   ]
  }
 ],
 "metadata": {
  "kernelspec": {
   "display_name": "Python 3",
   "language": "python",
   "name": "python3"
  },
  "language_info": {
   "codemirror_mode": {
    "name": "ipython",
    "version": 3
   },
   "file_extension": ".py",
   "mimetype": "text/x-python",
   "name": "python",
   "nbconvert_exporter": "python",
   "pygments_lexer": "ipython3",
   "version": "3.6.8"
  }
 },
 "nbformat": 4,
 "nbformat_minor": 2
}
