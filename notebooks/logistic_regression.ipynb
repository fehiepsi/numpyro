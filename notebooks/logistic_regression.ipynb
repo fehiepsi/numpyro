{
 "cells": [
  {
   "cell_type": "markdown",
   "metadata": {},
   "source": [
    "This notebook uses `numpyro` and replicates experiments in references [1] and [2] which evaluates the performance of HMC/NUTS on various frameworks."
   ]
  },
  {
   "cell_type": "code",
   "execution_count": 1,
   "metadata": {},
   "outputs": [
    {
     "name": "stderr",
     "output_type": "stream",
     "text": [
      "/home/fehiepsi/miniconda3/envs/pydata/lib/python3.6/site-packages/jax/lib/xla_bridge.py:144: UserWarning: No GPU/TPU found, falling back to CPU.\n",
      "  warnings.warn('No GPU/TPU found, falling back to CPU.')\n"
     ]
    }
   ],
   "source": [
    "%matplotlib inline\n",
    "\n",
    "import time\n",
    "\n",
    "import matplotlib.pyplot as plt\n",
    "import numpy as onp\n",
    "from sklearn.datasets import fetch_covtype\n",
    "\n",
    "import jax.numpy as np\n",
    "from jax import jit, lax, random\n",
    "\n",
    "import numpyro.distributions as dist\n",
    "from numpyro.distributions.util import validation_disabled\n",
    "from numpyro.handlers import sample\n",
    "from numpyro.hmc_util import initialize_model\n",
    "from numpyro.mcmc import hmc_kernel\n",
    "from numpyro.util import tscan_nonprim, control_flow_prims_disabled"
   ]
  },
  {
   "cell_type": "markdown",
   "metadata": {},
   "source": [
    "We do preprocessing steps as in [source code](https://github.com/google-research/google-research/blob/master/simple_probabilistic_programming/no_u_turn_sampler/logistic_regression.py) of reference [2]."
   ]
  },
  {
   "cell_type": "code",
   "execution_count": 2,
   "metadata": {},
   "outputs": [
    {
     "name": "stdout",
     "output_type": "stream",
     "text": [
      "Data shape: (581012, 55)\n",
      "Label distribution: 211840 has label 1, 369172 has label 0\n"
     ]
    }
   ],
   "source": [
    "data = fetch_covtype()\n",
    "features = data.data\n",
    "labels = data.target\n",
    "\n",
    "# normalize features and add intercept\n",
    "features = (features - features.mean(0)) / features.std(0)\n",
    "features = np.hstack([features, np.ones((features.shape[0], 1))])\n",
    "\n",
    "# make binary feature\n",
    "_, counts = onp.unique(labels, return_counts=True)\n",
    "specific_category = np.argmax(counts)\n",
    "labels = (labels == specific_category)\n",
    "\n",
    "N, dim = features.shape\n",
    "print(\"Data shape:\", features.shape)\n",
    "print(\"Label distribution: {} has label 1, {} has label 0\".format(labels.sum(), N - labels.sum()))"
   ]
  },
  {
   "cell_type": "markdown",
   "metadata": {},
   "source": [
    "Construct model"
   ]
  },
  {
   "cell_type": "code",
   "execution_count": 3,
   "metadata": {},
   "outputs": [],
   "source": [
    "def model(data, labels):\n",
    "    coefs = sample('coefs', dist.norm(np.zeros(dim), np.ones(dim)))\n",
    "    logits = np.dot(data, coefs)\n",
    "    return sample('obs', dist.bernoulli(logits, is_logits=True), obs=labels)"
   ]
  },
  {
   "cell_type": "markdown",
   "metadata": {},
   "source": [
    "### Benchmark HMC against Edward"
   ]
  },
  {
   "cell_type": "code",
   "execution_count": 4,
   "metadata": {},
   "outputs": [],
   "source": [
    "num_steps, num_samples = 10, 100\n",
    "step_size = np.sqrt(0.5 / N)\n",
    "init_params = {\"coefs\": np.zeros(dim)}"
   ]
  },
  {
   "cell_type": "code",
   "execution_count": 5,
   "metadata": {},
   "outputs": [
    {
     "name": "stdout",
     "output_type": "stream",
     "text": [
      "time to compile sample_kernel: 5.403517484664917\n"
     ]
    }
   ],
   "source": [
    "with validation_disabled():\n",
    "    start = time.time()\n",
    "    _, potential_fn = initialize_model(random.PRNGKey(1), model, (features, labels,), {})\n",
    "\n",
    "    start = time.time()\n",
    "    init_kernel, sample_kernel = hmc_kernel(potential_fn, algo=\"HMC\")\n",
    "    hmc_state, _, _ = init_kernel(init_params, num_warmup_steps=0, step_size=step_size,\n",
    "                                  num_steps=num_steps, run_warmup=False)\n",
    "\n",
    "    start = time.time()\n",
    "    hmc_state = hmc_state.update(step_size=1.)  # HACK: force fast compiling!\n",
    "    jsample_kernel = jit(sample_kernel)\n",
    "    jsample_kernel(hmc_state)\n",
    "    setup_time = time.time() - start\n",
    "    print(\"time to compile sample_kernel:\", setup_time)"
   ]
  },
  {
   "cell_type": "code",
   "execution_count": 6,
   "metadata": {},
   "outputs": [
    {
     "name": "stdout",
     "output_type": "stream",
     "text": [
      "time to get 100 samples : 43.94540596008301\n",
      "number of leapfrog steps: 1000\n",
      "avg. time for each step : 0.043945405960083006\n"
     ]
    }
   ],
   "source": [
    "hmc_state = hmc_state.update(step_size=step_size)\n",
    "start = time.time()\n",
    "hmc_states = tscan_nonprim(lambda state, i: jsample_kernel(state), hmc_state, np.arange(num_samples),\n",
    "                           transform=lambda state: {\"coefs\": state.z[\"coefs\"],\n",
    "                                                    \"num_steps\": state.num_steps})\n",
    "sampling_time = time.time() - start\n",
    "num_leapfrogs = np.sum(hmc_states[\"num_steps\"]).copy()\n",
    "print(\"time to get 100 samples :\", sampling_time)\n",
    "print(\"number of leapfrog steps:\", num_leapfrogs)\n",
    "print(\"avg. time for each step :\", sampling_time / num_leapfrogs)"
   ]
  },
  {
   "cell_type": "code",
   "execution_count": 7,
   "metadata": {},
   "outputs": [
    {
     "data": {
      "image/png": "[encoded data removed]",
      "text/plain": [
       "<Figure size 432x288 with 1 Axes>"
      ]
     },
     "metadata": {
      "needs_background": "light"
     },
     "output_type": "display_data"
    }
   ],
   "source": [
    "plt.plot(hmc_states[\"coefs\"][:, 0]);"
   ]
  },
  {
   "cell_type": "code",
   "execution_count": 8,
   "metadata": {},
   "outputs": [
    {
     "name": "stdout",
     "output_type": "stream",
     "text": [
      "tensorflow version: 1.6.0\n",
      "edward version: 1.3.5\n"
     ]
    },
    {
     "name": "stderr",
     "output_type": "stream",
     "text": [
      "/home/fehiepsi/miniconda3/envs/pydata/lib/python3.6/site-packages/edward/util/random_variables.py:52: FutureWarning: Conversion of the second argument of issubdtype from `float` to `np.floating` is deprecated. In future, it will be treated as `np.float64 == np.dtype(float).type`.\n",
      "  not np.issubdtype(value.dtype, np.float) and \\\n"
     ]
    },
    {
     "name": "stdout",
     "output_type": "stream",
     "text": [
      "100/100 [100%] ██████████████████████████████ Elapsed: 53s | Acceptance Rate: 0.980\n",
      "CPU times: user 1min 31s, sys: 1min 10s, total: 2min 42s\n",
      "Wall time: 53.4 s\n"
     ]
    }
   ],
   "source": [
    "import tensorflow as tf\n",
    "import edward as ed\n",
    "\n",
    "print(\"tensorflow version:\", tf.__version__)\n",
    "print(\"edward version:\", ed.__version__)\n",
    "\n",
    "ed.set_seed(0)\n",
    "coefs = ed.models.Normal(loc=tf.zeros(dim), scale=tf.ones(dim))\n",
    "logits = tf.tensordot(features.copy(), coefs, [[1], [0]])\n",
    "y = ed.models.BernoulliWithSigmoidProbs(logits)\n",
    "\n",
    "qcoefs = ed.models.Empirical(params=tf.Variable(tf.zeros([num_samples, dim])))\n",
    "inference = ed.HMC({coefs: qcoefs}, data={y: labels.copy().astype(np.float32)})\n",
    "%time inference.run(step_size=step_size.copy(), n_steps=num_steps)"
   ]
  },
  {
   "cell_type": "markdown",
   "metadata": {},
   "source": [
    "### Benchmark NUTS against Edward 2"
   ]
  },
  {
   "cell_type": "code",
   "execution_count": 9,
   "metadata": {},
   "outputs": [],
   "source": [
    "num_samples = 10\n",
    "step_size = 0.00167132\n",
    "init_params = {\"coefs\": np.array(\n",
    "    [+2.03420663e+00, -3.53567265e-02, -1.49223924e-01, -3.07049364e-01,\n",
    "     -1.00028366e-01, -1.46827862e-01, -1.64167881e-01, -4.20344204e-01,\n",
    "     +9.47479829e-02, -1.12681836e-02, +2.64442056e-01, -1.22087866e-01,\n",
    "     -6.00568838e-02, -3.79419506e-01, -1.06668741e-01, -2.97053963e-01,\n",
    "     -2.05253899e-01, -4.69537191e-02, -2.78072730e-02, -1.43250525e-01,\n",
    "     -6.77954629e-02, -4.34899796e-03, +5.90927452e-02, +7.23133609e-02,\n",
    "     +1.38526391e-02, -1.24497898e-01, -1.50733739e-02, -2.68872194e-02,\n",
    "     -1.80925727e-02, +3.47936489e-02, +4.03552800e-02, -9.98773426e-03,\n",
    "     +6.20188080e-02, +1.15002751e-01, +1.32145107e-01, +2.69109547e-01,\n",
    "     +2.45785132e-01, +1.19035013e-01, -2.59744357e-02, +9.94279515e-04,\n",
    "     +3.39266285e-02, -1.44057125e-02, -6.95222765e-02, -7.52013028e-02,\n",
    "     +1.21171586e-01, +2.29205526e-02, +1.47308692e-01, -8.34354162e-02,\n",
    "     -9.34122875e-02, -2.97472421e-02, -3.03937674e-01, -1.70958012e-01,\n",
    "     -1.59496680e-01, -1.88516974e-01, -1.20889175e+00])}"
   ]
  },
  {
   "cell_type": "code",
   "execution_count": 10,
   "metadata": {},
   "outputs": [
    {
     "name": "stdout",
     "output_type": "stream",
     "text": [
      "time to compile sample_kernel: 15.337042808532715\n"
     ]
    }
   ],
   "source": [
    "with validation_disabled():\n",
    "    start = time.time()\n",
    "    _, potential_fn = initialize_model(random.PRNGKey(1), model, (features, labels,), {})\n",
    "\n",
    "    start = time.time()\n",
    "    init_kernel, sample_kernel = hmc_kernel(potential_fn, algo=\"NUTS\")\n",
    "    hmc_state, _, _ = init_kernel(init_params, num_warmup_steps=0, step_size=step_size, \n",
    "                                  run_warmup=False)\n",
    "\n",
    "    start = time.time()\n",
    "    hmc_state = hmc_state.update(step_size=1.)  # HACK: force fast compiling!\n",
    "    jsample_kernel = jit(sample_kernel)\n",
    "    jsample_kernel(hmc_state)\n",
    "    setup_time = time.time() - start\n",
    "    print(\"time to compile sample_kernel:\", setup_time)"
   ]
  },
  {
   "cell_type": "code",
   "execution_count": 11,
   "metadata": {},
   "outputs": [
    {
     "name": "stdout",
     "output_type": "stream",
     "text": [
      "time to get 100 samples : 131.8906855583191\n",
      "number of leapfrog steps: 3286\n",
      "avg. time for each step : 0.0401371532435542\n"
     ]
    }
   ],
   "source": [
    "hmc_state = hmc_state.update(step_size=step_size)\n",
    "start = time.time()\n",
    "hmc_states = tscan_nonprim(lambda state, i: jsample_kernel(state), hmc_state, np.arange(num_samples),\n",
    "                           transform=lambda state: {\"coefs\": state.z[\"coefs\"],\n",
    "                                                    \"num_steps\": state.num_steps})\n",
    "sampling_time = time.time() - start\n",
    "num_leapfrogs = np.sum(hmc_states[\"num_steps\"]).copy()\n",
    "print(\"time to get 100 samples :\", sampling_time)\n",
    "print(\"number of leapfrog steps:\", num_leapfrogs)\n",
    "print(\"avg. time for each step :\", sampling_time / num_leapfrogs)"
   ]
  },
  {
   "cell_type": "code",
   "execution_count": 12,
   "metadata": {},
   "outputs": [
    {
     "data": {
      "image/png": "[encoded data removed]",
      "text/plain": [
       "<Figure size 432x288 with 1 Axes>"
      ]
     },
     "metadata": {
      "needs_background": "light"
     },
     "output_type": "display_data"
    }
   ],
   "source": [
    "plt.plot(hmc_states[\"coefs\"][:, 0]);"
   ]
  },
  {
   "cell_type": "markdown",
   "metadata": {},
   "source": [
    "### References\n",
    "\n",
    "1. `Deep Probabilistic Programming`, [arxiv](https://arxiv.org/abs/1701.03757)<br/>\n",
    "Dustin Tran, Matthew D. Hoffman, Rif A. Saurous, Eugene Brevdo, Kevin Murphy, David M. Blei\n",
    "\n",
    "2. `Simple, Distributed, and Accelerated Probabilistic Programming,` [arxiv](https://arxiv.org/abs/1811.02091)<br/>\n",
    "Dustin Tran, Matthew D. Hoffman, Dave Moore, Christopher Suter, Srinivas Vasudevan, Alexey Radul, Matthew Johnson, Rif A. Saurous"
   ]
  }
 ],
 "metadata": {
  "kernelspec": {
   "display_name": "Python 3",
   "language": "python",
   "name": "python3"
  },
  "language_info": {
   "codemirror_mode": {
    "name": "ipython",
    "version": 3
   },
   "file_extension": ".py",
   "mimetype": "text/x-python",
   "name": "python",
   "nbconvert_exporter": "python",
   "pygments_lexer": "ipython3",
   "version": "3.6.8"
  }
 },
 "nbformat": 4,
 "nbformat_minor": 2
}
