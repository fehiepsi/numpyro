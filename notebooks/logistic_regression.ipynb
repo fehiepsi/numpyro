{
 "cells": [
  {
   "cell_type": "markdown",
   "metadata": {},
   "source": [
    "This notebook uses `numpyro` and replicates experiments in references [1] and [2] which evaluates the performance of HMC/NUTS on various frameworks."
   ]
  },
  {
   "cell_type": "code",
   "execution_count": 1,
   "metadata": {},
   "outputs": [
    {
     "name": "stderr",
     "output_type": "stream",
     "text": [
      "/home/fehiepsi/miniconda3/envs/pydata/lib/python3.6/site-packages/jax/lib/xla_bridge.py:144: UserWarning: No GPU/TPU found, falling back to CPU.\n",
      "  warnings.warn('No GPU/TPU found, falling back to CPU.')\n"
     ]
    }
   ],
   "source": [
    "%matplotlib inline\n",
    "\n",
    "import time\n",
    "\n",
    "import matplotlib.pyplot as plt\n",
    "import numpy as onp\n",
    "from sklearn.datasets import fetch_covtype\n",
    "\n",
    "import jax.numpy as np\n",
    "from jax import lax, random\n",
    "\n",
    "import numpyro.distributions as dist\n",
    "from numpyro.distributions.util import validation_disabled\n",
    "from numpyro.handlers import sample\n",
    "from numpyro.hmc_util import initialize_model\n",
    "from numpyro.mcmc import hmc_kernel\n",
    "from numpyro.util import tscan, control_flow_prims_disabled"
   ]
  },
  {
   "cell_type": "markdown",
   "metadata": {},
   "source": [
    "We do preprocessing steps as in [source code](https://github.com/google-research/google-research/blob/master/simple_probabilistic_programming/no_u_turn_sampler/logistic_regression.py) of reference [1]."
   ]
  },
  {
   "cell_type": "code",
   "execution_count": 2,
   "metadata": {},
   "outputs": [
    {
     "name": "stdout",
     "output_type": "stream",
     "text": [
      "Data shape: (581012, 55)\n",
      "Label distribution: 211840 has label 1, 369172 has label 0\n"
     ]
    }
   ],
   "source": [
    "data = fetch_covtype()\n",
    "features = data.data\n",
    "labels = data.target\n",
    "\n",
    "# normalize features and add intercept\n",
    "features = (features - features.mean(0)) / features.std(0)\n",
    "features = np.hstack([features, np.ones((features.shape[0], 1))])\n",
    "\n",
    "# make binary feature\n",
    "_, counts = onp.unique(labels, return_counts=True)\n",
    "specific_category = np.argmax(counts)\n",
    "labels = (labels == specific_category)\n",
    "\n",
    "N, dim = features.shape\n",
    "print(\"Data shape:\", features.shape)\n",
    "print(\"Label distribution: {} has label 1, {} has label 0\".format(labels.sum(), N - labels.sum()))"
   ]
  },
  {
   "cell_type": "markdown",
   "metadata": {},
   "source": [
    "Construct model"
   ]
  },
  {
   "cell_type": "code",
   "execution_count": 3,
   "metadata": {},
   "outputs": [],
   "source": [
    "def model(data, labels):\n",
    "    coefs = sample('coefs', dist.norm(np.zeros(dim), np.ones(dim)))\n",
    "    logits = np.dot(data, coefs)\n",
    "    return sample('obs', dist.bernoulli(logits, is_logits=True), obs=labels)"
   ]
  },
  {
   "cell_type": "markdown",
   "metadata": {},
   "source": [
    "Do sampling"
   ]
  },
  {
   "cell_type": "code",
   "execution_count": 4,
   "metadata": {},
   "outputs": [
    {
     "name": "stdout",
     "output_type": "stream",
     "text": [
      "time to create potential: 0.46141958236694336\n",
      "time to warmup and init : 4.2805352210998535\n",
      "time to setup scan loop : 3.4199910163879395\n",
      "time to get 1000 samples: 111.21508073806763\n",
      "number of leapfrog steps: 1000\n",
      "avg. time for each step : 0.11121508073806763\n"
     ]
    }
   ],
   "source": [
    "warmup_steps, num_samples = 0, 101\n",
    "step_size = np.sqrt(0.5 / N)\n",
    "init_params = {\"coefs\": np.zeros(dim)}\n",
    "\n",
    "with validation_disabled():\n",
    "    start = time.time()\n",
    "    _, potential_fn = initialize_model(random.PRNGKey(1), model, (features, labels,), {})\n",
    "    print(\"time to create potential:\", time.time() - start)\n",
    "\n",
    "    start = time.time()\n",
    "    init_kernel, sample_kernel = hmc_kernel(potential_fn, algo=\"HMC\")\n",
    "    hmc_state = init_kernel(init_params, step_size=step_size, num_steps=10, adapt_step_size=False,\n",
    "                            num_warmup_steps=warmup_steps)\n",
    "    print(\"time to warmup and init :\", time.time() - start)\n",
    "\n",
    "    start = time.time()\n",
    "    hmc_states = tscan(lambda state, i: sample_kernel(state), hmc_state, np.arange(1))\n",
    "    setup_time = time.time() - start\n",
    "    print(\"time to setup scan loop :\", setup_time)\n",
    "\n",
    "    start = time.time()\n",
    "    hmc_states = tscan(lambda state, i: sample_kernel(state), hmc_state, np.arange(num_samples),\n",
    "                       fields=(0, 1, 2, 3, 4, 5, 6, 7))\n",
    "    sampling_time = time.time() - start - setup_time\n",
    "    num_leapfrogs = np.sum(hmc_states.num_steps[1:]).copy()\n",
    "    print(\"time to get 1000 samples:\", sampling_time)\n",
    "    print(\"number of leapfrog steps:\", num_leapfrogs)\n",
    "    print(\"avg. time for each step :\", sampling_time / num_leapfrogs)"
   ]
  },
  {
   "cell_type": "code",
   "execution_count": 5,
   "metadata": {},
   "outputs": [
    {
     "data": {
      "image/png": "[encoded data removed]",
      "text/plain": [
       "<Figure size 432x288 with 1 Axes>"
      ]
     },
     "metadata": {
      "needs_background": "light"
     },
     "output_type": "display_data"
    }
   ],
   "source": [
    "plt.plot(hmc_states.z[\"coefs\"][:, 0]);"
   ]
  },
  {
   "cell_type": "markdown",
   "metadata": {},
   "source": [
    "### References\n",
    "\n",
    "1. `Deep Probabilistic Programming`, [arxiv](https://arxiv.org/abs/1701.03757)<br/>\n",
    "Dustin Tran, Matthew D. Hoffman, Rif A. Saurous, Eugene Brevdo, Kevin Murphy, David M. Blei\n",
    "\n",
    "2. `Simple, Distributed, and Accelerated Probabilistic Programming,` [arxiv](https://arxiv.org/abs/1811.02091)<br/>\n",
    "Dustin Tran, Matthew D. Hoffman, Dave Moore, Christopher Suter, Srinivas Vasudevan, Alexey Radul, Matthew Johnson, Rif A. Saurous"
   ]
  }
 ],
 "metadata": {
  "kernelspec": {
   "display_name": "Python 3",
   "language": "python",
   "name": "python3"
  },
  "language_info": {
   "codemirror_mode": {
    "name": "ipython",
    "version": 3
   },
   "file_extension": ".py",
   "mimetype": "text/x-python",
   "name": "python",
   "nbconvert_exporter": "python",
   "pygments_lexer": "ipython3",
   "version": "3.6.8"
  }
 },
 "nbformat": 4,
 "nbformat_minor": 2
}
