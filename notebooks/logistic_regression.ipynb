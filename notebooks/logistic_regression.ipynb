{
 "cells": [
  {
   "cell_type": "markdown",
   "metadata": {},
   "source": [
    "# Benchmark NumPyro in large dataset"
   ]
  },
  {
   "cell_type": "markdown",
   "metadata": {},
   "source": [
    "This notebook uses `numpyro` and replicates experiments in references [1] which evaluates the performance of NUTS on various frameworks. The benchmark is run with CUDA 10.0 on a NVIDIA RTX 2070."
   ]
  },
  {
   "cell_type": "code",
   "execution_count": 1,
   "metadata": {},
   "outputs": [],
   "source": [
    "import time\n",
    "\n",
    "import numpy as onp\n",
    "\n",
    "import jax.numpy as np\n",
    "from jax import random\n",
    "# NB: replace gpu by cpu to run this notebook in cpu\n",
    "from jax.config import config; config.update(\"jax_platform_name\", \"gpu\")\n",
    "\n",
    "import numpyro.distributions as dist\n",
    "from numpyro.diagnostics import summary\n",
    "from numpyro.examples.datasets import COVTYPE, load_dataset\n",
    "from numpyro.handlers import sample\n",
    "from numpyro.hmc_util import initialize_model\n",
    "from numpyro.mcmc import hmc, mcmc\n",
    "from numpyro.util import fori_collect"
   ]
  },
  {
   "cell_type": "markdown",
   "metadata": {},
   "source": [
    "We do preprocessing steps as in [source code](https://github.com/google-research/google-research/blob/master/simple_probabilistic_programming/no_u_turn_sampler/logistic_regression.py) of reference [1]:"
   ]
  },
  {
   "cell_type": "code",
   "execution_count": 2,
   "metadata": {},
   "outputs": [
    {
     "name": "stdout",
     "output_type": "stream",
     "text": [
      "Data shape: (581012, 55)\n",
      "Label distribution: 211840 has label 1, 369172 has label 0\n"
     ]
    }
   ],
   "source": [
    "_, fetch = load_dataset(COVTYPE, shuffle=False)\n",
    "features, labels = fetch()\n",
    "\n",
    "# normalize features and add intercept\n",
    "features = (features - features.mean(0)) / features.std(0)\n",
    "features = np.hstack([features, np.ones((features.shape[0], 1))])\n",
    "\n",
    "# make binary feature\n",
    "_, counts = onp.unique(labels, return_counts=True)\n",
    "specific_category = np.argmax(counts)\n",
    "labels = (labels == specific_category)\n",
    "\n",
    "N, dim = features.shape\n",
    "print(\"Data shape:\", features.shape)\n",
    "print(\"Label distribution: {} has label 1, {} has label 0\"\n",
    "      .format(labels.sum(), N - labels.sum()))"
   ]
  },
  {
   "cell_type": "markdown",
   "metadata": {},
   "source": [
    "Now, we construct the model:"
   ]
  },
  {
   "cell_type": "code",
   "execution_count": 3,
   "metadata": {},
   "outputs": [],
   "source": [
    "def model(data, labels):\n",
    "    coefs = sample('coefs', dist.Normal(np.zeros(dim), np.ones(dim)))\n",
    "    logits = np.dot(data, coefs)\n",
    "    return sample('obs', dist.Bernoulli(logits=logits), obs=labels)"
   ]
  },
  {
   "cell_type": "code",
   "execution_count": 4,
   "metadata": {},
   "outputs": [],
   "source": [
    "step_size = np.sqrt(0.5 / N)\n",
    "init_params = {'coefs': np.zeros(dim)}"
   ]
  },
  {
   "cell_type": "markdown",
   "metadata": {},
   "source": [
    "## Benchmark HMC"
   ]
  },
  {
   "cell_type": "code",
   "execution_count": 5,
   "metadata": {},
   "outputs": [],
   "source": [
    "_, potential_fn, _ = initialize_model(random.PRNGKey(1), model, features, labels)"
   ]
  },
  {
   "cell_type": "code",
   "execution_count": 6,
   "metadata": {},
   "outputs": [
    {
     "name": "stderr",
     "output_type": "stream",
     "text": [
      "warmup: 0it [00:00, ?it/s]\n",
      "sample: 100%|██████████| 1000/1000 [00:40<00:00, 26.33it/s, 10 steps of size 9.28e-04. acc. prob=0.93]"
     ]
    },
    {
     "name": "stdout",
     "output_type": "stream",
     "text": [
      "\n",
      "\n",
      "                           mean         sd       5.5%      94.5%      n_eff       Rhat\n",
      "            coefs[0]       1.97       0.01       1.96       1.99     331.43       1.01\n",
      "            coefs[1]      -0.04       0.01      -0.05      -0.03    1009.88       1.00\n",
      "            coefs[2]      -0.07       0.02      -0.10      -0.04       5.76       1.27\n",
      "            coefs[3]      -0.30       0.01      -0.31      -0.29    2724.61       1.00\n",
      "            coefs[4]      -0.09       0.01      -0.10      -0.09    2371.74       1.00\n",
      "            coefs[5]      -0.14       0.01      -0.15      -0.14    1966.52       1.00\n",
      "            coefs[6]       0.20       0.10       0.10       0.31       5.46       1.28\n",
      "            coefs[7]      -0.63       0.06      -0.70      -0.57       5.55       1.27\n",
      "            coefs[8]       0.53       0.11       0.42       0.66       5.46       1.28\n",
      "            coefs[9]      -0.01       0.01      -0.02      -0.00   -3968.46       1.00\n",
      "           coefs[10]       0.33       0.09       0.17       0.43       3.56       1.63\n",
      "           coefs[11]      -0.08       0.04      -0.15      -0.03       3.65       1.61\n",
      "           coefs[12]       0.01       0.09      -0.15       0.11       3.57       1.63\n",
      "           coefs[13]      -0.95       0.11      -1.10      -0.78       3.15       1.74\n",
      "           coefs[14]       0.05       0.11      -0.20       0.17       3.80       1.61\n",
      "           coefs[15]      -0.53       0.08      -0.66      -0.42       3.92       1.50\n",
      "           coefs[16]      -0.42       0.11      -0.54      -0.18       5.14       1.13\n",
      "           coefs[17]      -0.05       0.03      -0.07      -0.03      64.97       1.04\n",
      "           coefs[18]      -0.12       0.13      -0.26       0.11       3.70       1.49\n",
      "           coefs[19]      -0.36       0.14      -0.61      -0.18       3.36       1.65\n",
      "           coefs[20]      -0.20       0.11      -0.38      -0.06       2.74       2.22\n",
      "           coefs[21]       0.01       0.00       0.00       0.01     130.20       1.01\n",
      "           coefs[22]       0.07       0.01       0.06       0.07      49.54       1.03\n",
      "           coefs[23]       0.09       0.04       0.06       0.12      47.42       1.03\n",
      "           coefs[24]       0.03       0.02       0.01       0.05      40.28       1.04\n",
      "           coefs[25]      -0.09       0.02      -0.11      -0.06      30.42       1.06\n",
      "           coefs[26]       0.02       0.02       0.00       0.04      24.79       1.08\n",
      "           coefs[27]      -0.14       0.06      -0.23      -0.02      10.82       1.12\n",
      "           coefs[28]      -0.09       0.11      -0.29       0.02       3.84       1.41\n",
      "           coefs[29]       0.05       0.01       0.04       0.06      35.68       1.05\n",
      "           coefs[30]       0.05       0.01       0.03       0.06      52.08       1.04\n",
      "           coefs[31]       0.00       0.01      -0.01       0.01      87.99       1.02\n",
      "           coefs[32]       0.08       0.01       0.06       0.09      37.79       1.05\n",
      "           coefs[33]       0.14       0.01       0.12       0.15      22.17       1.07\n",
      "           coefs[34]       0.14       0.01       0.13       0.16     230.37       1.00\n",
      "           coefs[35]       0.32       0.03       0.28       0.34      68.31       1.02\n",
      "           coefs[36]       0.31       0.02       0.27       0.34      17.80       1.09\n",
      "           coefs[37]       0.15       0.01       0.13       0.17      17.60       1.08\n",
      "           coefs[38]      -0.02       0.01      -0.02      -0.01     298.84       1.01\n",
      "           coefs[39]       0.01       0.01      -0.00       0.02      36.30       1.05\n",
      "           coefs[40]       0.05       0.01       0.04       0.06     100.51       1.02\n",
      "           coefs[41]      -0.01       0.01      -0.02      -0.00     149.56       1.03\n",
      "           coefs[42]       0.02       0.03      -0.04       0.05      14.33       1.11\n",
      "           coefs[43]      -0.02       0.02      -0.05      -0.00      25.26       1.06\n",
      "           coefs[44]       0.16       0.02       0.12       0.18      40.20       1.04\n",
      "           coefs[45]       0.08       0.03       0.04       0.11      24.85       1.07\n",
      "           coefs[46]       0.19       0.02       0.15       0.22      23.21       1.06\n",
      "           coefs[47]      -0.07       0.01      -0.08      -0.06      82.38       1.03\n",
      "           coefs[48]      -0.08       0.01      -0.08      -0.07      39.53       1.04\n",
      "           coefs[49]      -0.03       0.00      -0.03      -0.02     275.01       1.01\n",
      "           coefs[50]      -0.28       0.06      -0.37      -0.17       9.70       1.04\n",
      "           coefs[51]      -0.13       0.01      -0.15      -0.11      17.59       1.10\n",
      "           coefs[52]      -0.12       0.02      -0.15      -0.10      57.30       1.03\n",
      "           coefs[53]      -0.16       0.01      -0.18      -0.15      22.26       1.08\n",
      "           coefs[54]      -1.44       0.04      -1.48      -1.38       4.42       1.57\n",
      "number of leapfrog steps: 10000\n",
      "avg. time for each step : 0.004309945964813233\n"
     ]
    },
    {
     "name": "stderr",
     "output_type": "stream",
     "text": [
      "\n"
     ]
    }
   ],
   "source": [
    "t0 = time.time()\n",
    "samples = mcmc(num_warmup=0, num_samples=1000, init_params=init_params, potential_fn=potential_fn,\n",
    "               algo='HMC', step_size=step_size, trajectory_length=(10 * step_size),\n",
    "               adapt_step_size=False)\n",
    "t1 = time.time()\n",
    "num_leapfrogs = 1000 * 10\n",
    "print(\"number of leapfrog steps:\", num_leapfrogs)\n",
    "print(\"avg. time for each step :\", (t1 - t0) / 10000)"
   ]
  },
  {
   "cell_type": "markdown",
   "metadata": {},
   "source": [
    "In CPU, we get `avg. time for each step : 0.03022431535720825`."
   ]
  },
  {
   "cell_type": "markdown",
   "metadata": {},
   "source": [
    "## Benchmark NUTS"
   ]
  },
  {
   "cell_type": "markdown",
   "metadata": {},
   "source": [
    "To have a fair benchmark in NUTS, we need to record the number of leapfrog steps during sampling. Hence we will use the api [hmc](https://numpyro.readthedocs.io/en/latest/mcmc.html#numpyro.mcmc.hmc) and `fori_collect`."
   ]
  },
  {
   "cell_type": "code",
   "execution_count": 7,
   "metadata": {},
   "outputs": [
    {
     "name": "stderr",
     "output_type": "stream",
     "text": [
      "warmup: 0it [00:00, ?it/s]\n"
     ]
    }
   ],
   "source": [
    "_, potential_fn, _ = initialize_model(random.PRNGKey(1), model, features, labels)\n",
    "init_kernel, sample_kernel = hmc(potential_fn, algo='NUTS')\n",
    "hmc_state = init_kernel(init_params, num_warmup=0, step_size=step_size, adapt_step_size=False)"
   ]
  },
  {
   "cell_type": "code",
   "execution_count": 10,
   "metadata": {},
   "outputs": [
    {
     "name": "stderr",
     "output_type": "stream",
     "text": [
      "100%|██████████| 100/100 [04:51<00:00,  3.65s/it]\n"
     ]
    },
    {
     "name": "stdout",
     "output_type": "stream",
     "text": [
      "\n",
      "\n",
      "                           mean         sd       5.5%      94.5%      n_eff       Rhat\n",
      "            coefs[0]       1.86       0.37       1.72       1.99      10.53       1.10\n",
      "            coefs[1]      -0.04       0.01      -0.06      -0.03      21.88       1.03\n",
      "            coefs[2]      -0.07       0.03      -0.12      -0.04       9.21       1.13\n",
      "            coefs[3]      -0.28       0.07      -0.31      -0.25      10.45       1.10\n",
      "            coefs[4]      -0.09       0.01      -0.10      -0.08      27.06       1.00\n",
      "            coefs[5]      -0.13       0.06      -0.15      -0.10      10.59       1.10\n",
      "            coefs[6]       0.17       0.16      -0.18       0.30       4.98       1.28\n",
      "            coefs[7]      -0.58       0.17      -0.72      -0.34       5.26       1.24\n",
      "            coefs[8]       0.48       0.22       0.06       0.69       4.63       1.29\n",
      "            coefs[9]      -0.01       0.01      -0.02      -0.01      44.40       1.00\n",
      "           coefs[10]       0.73       0.46       0.06       1.31       8.34       1.15\n",
      "           coefs[11]       0.12       0.18      -0.12       0.36      13.18       1.09\n",
      "           coefs[12]       0.42       0.43      -0.09       1.01       9.39       1.13\n",
      "           coefs[13]      -1.18       0.67      -1.94      -0.14       5.67       1.25\n",
      "           coefs[14]      -0.49       0.59      -1.34       0.25      13.19       1.12\n",
      "           coefs[15]      -0.87       0.59      -1.69      -0.07       9.70       1.02\n",
      "           coefs[16]      -0.93       0.73      -1.88      -0.05      12.82       1.04\n",
      "           coefs[17]      -0.04       0.13      -0.19       0.20      11.41       0.99\n",
      "           coefs[18]      -0.44       0.51      -1.20       0.29      14.25       1.20\n",
      "           coefs[19]      -0.41       0.57      -1.31       0.36      14.16       1.04\n",
      "           coefs[20]      -1.06       1.00      -2.41      -0.01       5.66       1.01\n",
      "           coefs[21]       0.01       0.02      -0.02       0.03      12.72       1.00\n",
      "           coefs[22]       0.06       0.04      -0.02       0.12      10.86       0.99\n",
      "           coefs[23]       0.09       0.22      -0.19       0.45      10.40       0.99\n",
      "           coefs[24]       0.04       0.13      -0.13       0.26      11.33       0.99\n",
      "           coefs[25]      -0.06       0.19      -0.26       0.33      12.14       1.00\n",
      "           coefs[26]       0.04       0.15      -0.14       0.31      12.09       1.00\n",
      "           coefs[27]      -0.51       0.46      -1.25      -0.01      12.04       1.03\n",
      "           coefs[28]      -0.30       0.32      -0.75       0.01      15.24       1.06\n",
      "           coefs[29]       0.06       0.06      -0.03       0.16      12.09       0.99\n",
      "           coefs[30]       0.05       0.07      -0.05       0.17      10.77       0.99\n",
      "           coefs[31]       0.00       0.05      -0.06       0.09      11.38       0.99\n",
      "           coefs[32]       0.09       0.07      -0.01       0.21      12.49       1.00\n",
      "           coefs[33]       0.15       0.11       0.00       0.34      12.04       0.99\n",
      "           coefs[34]       0.15       0.04       0.10       0.22      14.25       0.99\n",
      "           coefs[35]       0.35       0.20       0.12       0.74      12.69       1.01\n",
      "           coefs[36]       0.35       0.26       0.08       0.88      12.55       1.01\n",
      "           coefs[37]       0.18       0.16      -0.01       0.50      12.53       1.00\n",
      "           coefs[38]      -0.01       0.02      -0.05       0.03      13.15       1.01\n",
      "           coefs[39]       0.01       0.06      -0.06       0.12      11.96       1.00\n",
      "           coefs[40]       0.05       0.04       0.00       0.11      12.46       1.00\n",
      "           coefs[41]      -0.01       0.04      -0.06       0.05      11.62       0.99\n",
      "           coefs[42]       0.08       0.34      -0.31       0.75      12.55       1.01\n",
      "           coefs[43]       0.01       0.19      -0.21       0.39      12.47       1.01\n",
      "           coefs[44]       0.18       0.18      -0.02       0.53      12.41       1.00\n",
      "           coefs[45]       0.13       0.25      -0.14       0.62      12.56       1.01\n",
      "           coefs[46]       0.23       0.23      -0.03       0.68      12.35       1.00\n",
      "           coefs[47]      -0.06       0.05      -0.12       0.02      13.24       1.03\n",
      "           coefs[48]      -0.06       0.05      -0.12       0.03      12.94       1.07\n",
      "           coefs[49]      -0.02       0.01      -0.04      -0.00      13.60       1.05\n",
      "           coefs[50]      -0.59       0.40      -1.16      -0.02      11.43       1.13\n",
      "           coefs[51]      -0.09       0.14      -0.30       0.12      12.95       1.06\n",
      "           coefs[52]      -0.08       0.13      -0.24       0.16      13.07       1.06\n",
      "           coefs[53]      -0.13       0.11      -0.26       0.07      13.29       1.07\n",
      "           coefs[54]      -1.69       0.48      -2.22      -1.10       5.10       1.23\n",
      "           num_steps     668.10     451.12       7.00    1023.00       6.29       1.21\n",
      "number of leapfrog steps: 66810\n",
      "avg. time for each step : 0.004371044361346889\n"
     ]
    }
   ],
   "source": [
    "t0 = time.time()\n",
    "hmc_states = fori_collect(100, sample_kernel, hmc_state,\n",
    "                          transform=lambda state: {'coefs': state.z['coefs'],\n",
    "                                                   'num_steps': state.num_steps})\n",
    "t1 = time.time()\n",
    "summary(hmc_states)\n",
    "num_leapfrogs = np.sum(hmc_states['num_steps']).copy()\n",
    "print(\"number of leapfrog steps:\", num_leapfrogs)\n",
    "print(\"avg. time for each step :\", (t1 - t0) / num_leapfrogs)"
   ]
  },
  {
   "cell_type": "markdown",
   "metadata": {},
   "source": [
    "In CPU, we get `avg. time for each step : 0.04056205542001939`."
   ]
  },
  {
   "cell_type": "markdown",
   "metadata": {},
   "source": [
    "#### Average time for each leapfrog (verlet) step"
   ]
  },
  {
   "cell_type": "markdown",
   "metadata": {},
   "source": [
    "|               |    HMC    |    NUTS   |\n",
    "| ------------- |:---------:|:---------:|\n",
    "| Edward2 (CPU) |           |  68.4 ms  |\n",
    "| Edward2 (GPU) |           |   9.7 ms  |\n",
    "| Numpyro (CPU) |  30.2 ms  |  40.0 ms  |\n",
    "| Numpyro (GPU) |   4.3 ms  |   4.4 ms  |\n",
    "\n",
    "*Note:* Edward 2 results are obtained from reference [1], which is run under a different environment system."
   ]
  },
  {
   "cell_type": "markdown",
   "metadata": {},
   "source": [
    "**Some takeaways:**\n",
    "+ The overhead of iterative NUTS is small. So most of computation time is indeed spent for evaluating potential function and its gradient.\n",
    "+ GPU outperforms CPU by a large margin. The data is large, so evaluating potential function in GPU is clearly faster than doing so in CPU.\n",
    "+ Iterative NUTS is 1.7x faster in CPU and 2x faster in GPU than the reported speed in reference [2]. This illustates the win of a graph-mode NUTS (using iterative algorithm) over an eager-mode NUTS (using recursive algorithm)."
   ]
  },
  {
   "cell_type": "markdown",
   "metadata": {},
   "source": [
    "## References\n",
    "\n",
    "1. `Simple, Distributed, and Accelerated Probabilistic Programming,` [arxiv](https://arxiv.org/abs/1811.02091)<br/>\n",
    "Dustin Tran, Matthew D. Hoffman, Dave Moore, Christopher Suter, Srinivas Vasudevan, Alexey Radul, Matthew Johnson, Rif A. Saurous"
   ]
  }
 ],
 "metadata": {
  "kernelspec": {
   "display_name": "Python (pydata)",
   "language": "python",
   "name": "pydata"
  },
  "language_info": {
   "codemirror_mode": {
    "name": "ipython",
    "version": 3
   },
   "file_extension": ".py",
   "mimetype": "text/x-python",
   "name": "python",
   "nbconvert_exporter": "python",
   "pygments_lexer": "ipython3",
   "version": "3.6.8"
  }
 },
 "nbformat": 4,
 "nbformat_minor": 2
}
