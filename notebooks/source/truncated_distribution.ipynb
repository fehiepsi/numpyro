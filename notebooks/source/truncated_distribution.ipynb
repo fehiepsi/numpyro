{
 "cells": [
  {
   "cell_type": "markdown",
   "id": "d04c27fd-7230-49df-9178-99464236b4a4",
   "metadata": {},
   "source": [
    "# Truncated Distributions"
   ]
  },
  {
   "cell_type": "markdown",
   "id": "2d750463-035e-461c-8621-7457f76e4905",
   "metadata": {},
   "source": [
    "In this tutorial, we will walk through how to implement truncated distributions in numpyro."
   ]
  }
 ],
 "metadata": {
  "kernelspec": {
   "display_name": "Python 3",
   "language": "python",
   "name": "python3"
  },
  "language_info": {
   "codemirror_mode": {
    "name": "ipython",
    "version": 3
   },
   "file_extension": ".py",
   "mimetype": "text/x-python",
   "name": "python",
   "nbconvert_exporter": "python",
   "pygments_lexer": "ipython3",
   "version": "3.8.8"
  }
 },
 "nbformat": 4,
 "nbformat_minor": 5
}
