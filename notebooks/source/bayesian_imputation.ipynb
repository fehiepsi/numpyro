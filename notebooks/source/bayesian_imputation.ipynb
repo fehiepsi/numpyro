{
 "cells": [
  {
   "cell_type": "markdown",
   "metadata": {},
   "source": [
    "# Bayesian Imputation"
   ]
  },
  {
   "cell_type": "markdown",
   "metadata": {},
   "source": [
    "Real-world datasets often contain many missing values. In those situations, we have to either remove those missing data (also known as \"complete case\") or replace them by some values. Though using complete case is pretty straightforward, it is only applicable when the number of missing entries is so small that throwing away those entries would not affect much the power of the analysis we are conducting on the data. The second strategy, also known as [imputation](https://en.wikipedia.org/wiki/Imputation_(statistics)), is more applicable and will be our focus in this tutorial.\n",
    "\n",
    "Probably the most popular way to perform imputation is to fill a missing value with the mean, median, or mode of its corresponding feature. In that case, we implicitly assume that the feature containing missing values has no correlation with the remaining features of our dataset. This is a pretty strong assumption and might not be true in general. In addition, it does not encode any uncertainty that we might put on those values. In below, we will construct a *Bayesian* setting to resolve those issues. In particular, given a model on the dataset, we will\n",
    "\n",
    "+ create a generative model for the feature with missing value\n",
    "+ and consider missing values as unobserved latent variables."
   ]
  },
  {
   "cell_type": "code",
   "execution_count": 1,
   "metadata": {},
   "outputs": [],
   "source": [
    "# first, we need some imports\n",
    "import os\n",
    "\n",
    "import matplotlib.pyplot as plt\n",
    "import pandas as pd\n",
    "from IPython.display import set_matplotlib_formats\n",
    "\n",
    "import jax.numpy as jnp\n",
    "from jax import ops, random\n",
    "from jax.scipy.special import expit\n",
    "\n",
    "import numpyro\n",
    "import numpyro.distributions as dist\n",
    "from numpyro.distributions import constraints\n",
    "from numpyro.infer import MCMC, NUTS, Predictive\n",
    "\n",
    "plt.style.use(\"seaborn\")\n",
    "if \"NUMPYRO_SPHINXBUILD\" in os.environ:\n",
    "    set_matplotlib_formats(\"svg\")"
   ]
  },
  {
   "cell_type": "markdown",
   "metadata": {},
   "source": [
    "### Dataset"
   ]
  },
  {
   "cell_type": "markdown",
   "metadata": {},
   "source": [
    "The data is taken from the competition [Titanic: Machine Learning from Disaster](https://www.kaggle.com/c/titanic) hosted on [kaggle](https://www.kaggle.com/). It contains information of passengers in the [Titanic accident](https://en.wikipedia.org/wiki/Sinking_of_the_RMS_Titanic) such as name, age, gender,... And our target is to predict if a person is more likely to survive."
   ]
  },
  {
   "cell_type": "code",
   "execution_count": 2,
   "metadata": {},
   "outputs": [
    {
     "name": "stdout",
     "output_type": "stream",
     "text": [
      "<class 'pandas.core.frame.DataFrame'>\n",
      "RangeIndex: 891 entries, 0 to 890\n",
      "Data columns (total 12 columns):\n",
      " #   Column       Non-Null Count  Dtype  \n",
      "---  ------       --------------  -----  \n",
      " 0   PassengerId  891 non-null    int64  \n",
      " 1   Survived     891 non-null    int64  \n",
      " 2   Pclass       891 non-null    int64  \n",
      " 3   Name         891 non-null    object \n",
      " 4   Sex          891 non-null    object \n",
      " 5   Age          714 non-null    float64\n",
      " 6   SibSp        891 non-null    int64  \n",
      " 7   Parch        891 non-null    int64  \n",
      " 8   Ticket       891 non-null    object \n",
      " 9   Fare         891 non-null    float64\n",
      " 10  Cabin        204 non-null    object \n",
      " 11  Embarked     889 non-null    object \n",
      "dtypes: float64(2), int64(5), object(5)\n",
      "memory usage: 83.7+ KB\n"
     ]
    },
    {
     "data": {
      "text/html": [
       "<div>\n",
       "<style scoped>\n",
       "    .dataframe tbody tr th:only-of-type {\n",
       "        vertical-align: middle;\n",
       "    }\n",
       "\n",
       "    .dataframe tbody tr th {\n",
       "        vertical-align: top;\n",
       "    }\n",
       "\n",
       "    .dataframe thead th {\n",
       "        text-align: right;\n",
       "    }\n",
       "</style>\n",
       "<table border=\"1\" class=\"dataframe\">\n",
       "  <thead>\n",
       "    <tr style=\"text-align: right;\">\n",
       "      <th></th>\n",
       "      <th>PassengerId</th>\n",
       "      <th>Survived</th>\n",
       "      <th>Pclass</th>\n",
       "      <th>Name</th>\n",
       "      <th>Sex</th>\n",
       "      <th>Age</th>\n",
       "      <th>SibSp</th>\n",
       "      <th>Parch</th>\n",
       "      <th>Ticket</th>\n",
       "      <th>Fare</th>\n",
       "      <th>Cabin</th>\n",
       "      <th>Embarked</th>\n",
       "    </tr>\n",
       "  </thead>\n",
       "  <tbody>\n",
       "    <tr>\n",
       "      <th>0</th>\n",
       "      <td>1</td>\n",
       "      <td>0</td>\n",
       "      <td>3</td>\n",
       "      <td>Braund, Mr. Owen Harris</td>\n",
       "      <td>male</td>\n",
       "      <td>22.0</td>\n",
       "      <td>1</td>\n",
       "      <td>0</td>\n",
       "      <td>A/5 21171</td>\n",
       "      <td>7.2500</td>\n",
       "      <td>NaN</td>\n",
       "      <td>S</td>\n",
       "    </tr>\n",
       "    <tr>\n",
       "      <th>1</th>\n",
       "      <td>2</td>\n",
       "      <td>1</td>\n",
       "      <td>1</td>\n",
       "      <td>Cumings, Mrs. John Bradley (Florence Briggs Th...</td>\n",
       "      <td>female</td>\n",
       "      <td>38.0</td>\n",
       "      <td>1</td>\n",
       "      <td>0</td>\n",
       "      <td>PC 17599</td>\n",
       "      <td>71.2833</td>\n",
       "      <td>C85</td>\n",
       "      <td>C</td>\n",
       "    </tr>\n",
       "    <tr>\n",
       "      <th>2</th>\n",
       "      <td>3</td>\n",
       "      <td>1</td>\n",
       "      <td>3</td>\n",
       "      <td>Heikkinen, Miss. Laina</td>\n",
       "      <td>female</td>\n",
       "      <td>26.0</td>\n",
       "      <td>0</td>\n",
       "      <td>0</td>\n",
       "      <td>STON/O2. 3101282</td>\n",
       "      <td>7.9250</td>\n",
       "      <td>NaN</td>\n",
       "      <td>S</td>\n",
       "    </tr>\n",
       "    <tr>\n",
       "      <th>3</th>\n",
       "      <td>4</td>\n",
       "      <td>1</td>\n",
       "      <td>1</td>\n",
       "      <td>Futrelle, Mrs. Jacques Heath (Lily May Peel)</td>\n",
       "      <td>female</td>\n",
       "      <td>35.0</td>\n",
       "      <td>1</td>\n",
       "      <td>0</td>\n",
       "      <td>113803</td>\n",
       "      <td>53.1000</td>\n",
       "      <td>C123</td>\n",
       "      <td>S</td>\n",
       "    </tr>\n",
       "    <tr>\n",
       "      <th>4</th>\n",
       "      <td>5</td>\n",
       "      <td>0</td>\n",
       "      <td>3</td>\n",
       "      <td>Allen, Mr. William Henry</td>\n",
       "      <td>male</td>\n",
       "      <td>35.0</td>\n",
       "      <td>0</td>\n",
       "      <td>0</td>\n",
       "      <td>373450</td>\n",
       "      <td>8.0500</td>\n",
       "      <td>NaN</td>\n",
       "      <td>S</td>\n",
       "    </tr>\n",
       "  </tbody>\n",
       "</table>\n",
       "</div>"
      ],
      "text/plain": [
       "   PassengerId  Survived  Pclass  \\\n",
       "0            1         0       3   \n",
       "1            2         1       1   \n",
       "2            3         1       3   \n",
       "3            4         1       1   \n",
       "4            5         0       3   \n",
       "\n",
       "                                                Name     Sex   Age  SibSp  \\\n",
       "0                            Braund, Mr. Owen Harris    male  22.0      1   \n",
       "1  Cumings, Mrs. John Bradley (Florence Briggs Th...  female  38.0      1   \n",
       "2                             Heikkinen, Miss. Laina  female  26.0      0   \n",
       "3       Futrelle, Mrs. Jacques Heath (Lily May Peel)  female  35.0      1   \n",
       "4                           Allen, Mr. William Henry    male  35.0      0   \n",
       "\n",
       "   Parch            Ticket     Fare Cabin Embarked  \n",
       "0      0         A/5 21171   7.2500   NaN        S  \n",
       "1      0          PC 17599  71.2833   C85        C  \n",
       "2      0  STON/O2. 3101282   7.9250   NaN        S  \n",
       "3      0            113803  53.1000  C123        S  \n",
       "4      0            373450   8.0500   NaN        S  "
      ]
     },
     "execution_count": 2,
     "metadata": {},
     "output_type": "execute_result"
    }
   ],
   "source": [
    "train_df = pd.read_csv(\n",
    "    \"https://raw.githubusercontent.com/agconti/kaggle-titanic/master/data/train.csv\"\n",
    ")\n",
    "train_df.info()\n",
    "train_df.head()"
   ]
  },
  {
   "cell_type": "markdown",
   "metadata": {},
   "source": [
    "Look at the data info, we know that there are missing data at `Age`, `Cabin`, and `Embarked` columns. Although `Cabin` is an important feature (because the position of a cabin in the ship can affect the chance of people in that cabin to survive), we will skip it in this tutorial for simplicity. In the datset, there are many categorical columns and two numerical columns `Age` and `Fare`. Let's first look at the distribution of those categorical columns:"
   ]
  },
  {
   "cell_type": "code",
   "execution_count": 3,
   "metadata": {},
   "outputs": [
    {
     "name": "stdout",
     "output_type": "stream",
     "text": [
      "0    549\n",
      "1    342\n",
      "Name: Survived, dtype: int64\n",
      "\n",
      "3    491\n",
      "1    216\n",
      "2    184\n",
      "Name: Pclass, dtype: int64\n",
      "\n",
      "male      577\n",
      "female    314\n",
      "Name: Sex, dtype: int64\n",
      "\n",
      "0    608\n",
      "1    209\n",
      "2     28\n",
      "4     18\n",
      "3     16\n",
      "8      7\n",
      "5      5\n",
      "Name: SibSp, dtype: int64\n",
      "\n",
      "0    678\n",
      "1    118\n",
      "2     80\n",
      "5      5\n",
      "3      5\n",
      "4      4\n",
      "6      1\n",
      "Name: Parch, dtype: int64\n",
      "\n",
      "S    644\n",
      "C    168\n",
      "Q     77\n",
      "Name: Embarked, dtype: int64\n",
      "\n"
     ]
    }
   ],
   "source": [
    "for col in [\"Survived\", \"Pclass\", \"Sex\", \"SibSp\", \"Parch\", \"Embarked\"]:\n",
    "    print(train_df[col].value_counts(), end=\"\\n\\n\")"
   ]
  },
  {
   "cell_type": "markdown",
   "metadata": {},
   "source": [
    "### Prepare data"
   ]
  },
  {
   "cell_type": "markdown",
   "metadata": {},
   "source": [
    "First, we will merge rare groups in `SibSp` and `Parch` columns together. In addition, we'll fill 2 missing entries in `Embarked` by the mode `S`. Note that we can make a generative model for those missing entries in `Embarked` but let's skip doing so for simplicity."
   ]
  },
  {
   "cell_type": "code",
   "execution_count": 4,
   "metadata": {},
   "outputs": [],
   "source": [
    "d = train_df.copy()\n",
    "d.SibSp.clip(0, 1, inplace=True)\n",
    "d.Parch.clip(0, 2, inplace=True)\n",
    "d.Embarked.fillna(\"S\", inplace=True)"
   ]
  },
  {
   "cell_type": "markdown",
   "metadata": {},
   "source": [
    "Looking closer at the data, we can observe that each name contains a title. We know that age is correlated with the title of the name: e.g. those with Mrs. would be older than those with `Miss.` (in average) so it might be good to create that feature. The distribution of titles is:"
   ]
  },
  {
   "cell_type": "code",
   "execution_count": 5,
   "metadata": {},
   "outputs": [
    {
     "data": {
      "text/plain": [
       "Mr.          517\n",
       "Miss.        182\n",
       "Mrs.         125\n",
       "Master.       40\n",
       "Dr.            7\n",
       "Rev.           6\n",
       "Major.         2\n",
       "Col.           2\n",
       "Mlle.          2\n",
       "the            1\n",
       "Capt.          1\n",
       "Lady.          1\n",
       "Mme.           1\n",
       "Ms.            1\n",
       "Sir.           1\n",
       "Don.           1\n",
       "Jonkheer.      1\n",
       "Name: Name, dtype: int64"
      ]
     },
     "execution_count": 5,
     "metadata": {},
     "output_type": "execute_result"
    }
   ],
   "source": [
    "d.Name.str.split(\", \").str.get(1).str.split(\" \").str.get(0).value_counts()"
   ]
  },
  {
   "cell_type": "markdown",
   "metadata": {},
   "source": [
    "We will make a new column `Title`, where rare titles are merged into one group `Misc.`."
   ]
  },
  {
   "cell_type": "code",
   "execution_count": 6,
   "metadata": {},
   "outputs": [],
   "source": [
    "d[\"Title\"] = (\n",
    "    d.Name.str.split(\", \")\n",
    "    .str.get(1)\n",
    "    .str.split(\" \")\n",
    "    .str.get(0)\n",
    "    .apply(lambda x: x if x in [\"Mr.\", \"Miss.\", \"Mrs.\", \"Master.\"] else \"Misc.\")\n",
    ")"
   ]
  },
  {
   "cell_type": "markdown",
   "metadata": {},
   "source": [
    "Now, it is ready to turn the dataframe, which includes categorical values, into numpy arrays. We also perform standardization (a good practice for regression models) for `Age` column."
   ]
  },
  {
   "cell_type": "code",
   "execution_count": 7,
   "metadata": {},
   "outputs": [],
   "source": [
    "title_cat = pd.CategoricalDtype(\n",
    "    categories=[\"Mr.\", \"Miss.\", \"Mrs.\", \"Master.\", \"Misc.\"], ordered=True\n",
    ")\n",
    "embarked_cat = pd.CategoricalDtype(categories=[\"S\", \"C\", \"Q\"], ordered=True)\n",
    "age_mean, age_std = d.Age.mean(), d.Age.std()\n",
    "data = dict(\n",
    "    age=d.Age.pipe(lambda x: (x - age_mean) / age_std).values,\n",
    "    pclass=d.Pclass.values - 1,\n",
    "    title=d.Title.astype(title_cat).cat.codes.values,\n",
    "    sex=(d.Sex == \"male\").astype(int).values,\n",
    "    sibsp=d.SibSp.values,\n",
    "    parch=d.Parch.values,\n",
    "    embarked=d.Embarked.astype(embarked_cat).cat.codes.values,\n",
    "    survived=d.Survived.values,\n",
    ")"
   ]
  },
  {
   "cell_type": "markdown",
   "metadata": {},
   "source": [
    "## Modelling"
   ]
  },
  {
   "cell_type": "markdown",
   "metadata": {},
   "source": [
    "First, we would like to talk a bit about how to define improper priors in NumPyro. Consider the following logistic regression model,\n",
    "```python\n",
    "def model(x, y):\n",
    "    a = numpyro.sample(\"a\", dist.Normal(0, 1))\n",
    "    b = numpyro.param(\"b\", dist.Normal(0, 1))\n",
    "    sigma = numpyro.sample(\"sigma\", dist.Exponential(1))\n",
    "    numpyro.sample(\"obs\", dist.Normal(a + b * x, sigma), obs=y)\n",
    "```\n",
    ". There we have some priors on sites `a`, `b`, and `sigma`. Now, assume that there is no apriori information on those sites, how can we define and get posterior samples of `a`, `b`, and `sigma`? In NumPyro, we can do it using [ImproperUniform](http://num.pyro.ai/en/latest/distributions.html#improperuniform) distribution. For example, a corresponding linear regression model with no prior information is\n",
    "```python\n",
    "def model(x, y):\n",
    "    a = numpyro.sample(\"a\", dist.ImproperUniform(constraints.real, (), ()))\n",
    "    b = numpyro.sample(\"b\", dist.ImproperUniform(constraints.real, (), ()))\n",
    "    sigma = numpyro.sample(\"sigma\", dist.ImproperUniform(constraints.positive, (), ()))\n",
    "    numpyro.sample(\"obs\", dist.Normal(a + b * x, sigma), obs=y)\n",
    "```"
   ]
  },
  {
   "cell_type": "markdown",
   "metadata": {},
   "source": [
    "Another remark is: in MCMC context, the following models\n",
    "```python\n",
    "def model1():\n",
    "    a = numpyro.sample(\"a\", dist.Normal(0, 1))\n",
    "```\n",
    "and\n",
    "```python\n",
    "def model2():\n",
    "    a = numpyro.sample(\"a\", dist.ImproperUniform(constraints.real, (), ()))\n",
    "    numpyro.sample(\"a_obs\", dist.Normal(0, 1), obs=a)\n",
    "```\n",
    "are equivalent because both of them have\n",
    "+ the same latent sites `a`,\n",
    "+ and the same log densities `dist.Normal(0, 1).log_prob(a)`."
   ]
  },
  {
   "cell_type": "markdown",
   "metadata": {},
   "source": [
    "With those remarks in mind, we are ready to define a logistic regression model to predict survival chance given passengers' information."
   ]
  },
  {
   "cell_type": "code",
   "execution_count": 8,
   "metadata": {},
   "outputs": [],
   "source": [
    "def model(age, pclass, title, sex, sibsp, parch, embarked, survived=None):\n",
    "    b_pclass = numpyro.sample(\"b_Pclass\", dist.Normal(0, 1), sample_shape=(3,))\n",
    "    b_title = numpyro.sample(\"b_Title\", dist.Normal(0, 1), sample_shape=(5,))\n",
    "    b_sex = numpyro.sample(\"b_Sex\", dist.Normal(0, 1), sample_shape=(2,))\n",
    "    b_sibsp = numpyro.sample(\"b_SibSp\", dist.Normal(0, 1), sample_shape=(2,))\n",
    "    b_parch = numpyro.sample(\"b_Parch\", dist.Normal(0, 1), sample_shape=(3,))\n",
    "    b_embarked = numpyro.sample(\"b_Embarked\", dist.Normal(0, 1), sample_shape=(3,))\n",
    "\n",
    "    # impute age by Title\n",
    "    age_mu = numpyro.sample(\"age_mu\", dist.Normal(0, 1), sample_shape=(5,))\n",
    "    age_mu = age_mu[title]\n",
    "    age_sigma = numpyro.sample(\"age_sigma\", dist.Normal(0, 1), sample_shape=(5,))\n",
    "    age_sigma = age_sigma[title]\n",
    "    age_isnan = jnp.isnan(age)\n",
    "    age_nanidx = jnp.nonzero(age_isnan)[0]\n",
    "    if survived is not None:\n",
    "        age_impute = numpyro.sample(\n",
    "            \"age_impute\",\n",
    "            dist.ImproperUniform(constraints.real, (), ()),\n",
    "            sample_shape=(age_isnan.sum(),),\n",
    "        )\n",
    "    else:  # we are making prediction\n",
    "        age_impute = numpyro.sample(\n",
    "            \"age_impute\", dist.Normal(age_mu[age_nanidx], age_sigma[age_nanidx])\n",
    "        )\n",
    "    age = ops.index_update(age, age_nanidx, age_impute)\n",
    "    numpyro.sample(\"age\", dist.Normal(age_mu, age_sigma), obs=age)\n",
    "\n",
    "    a = numpyro.sample(\"a\", dist.Normal(0, 1))\n",
    "    b_age = numpyro.sample(\"b_Age\", dist.Normal(0, 1))\n",
    "    logits = a + b_age * age\n",
    "\n",
    "    logits = (\n",
    "        logits\n",
    "        + b_title[title]\n",
    "        + b_pclass[pclass]\n",
    "        + b_sex[sex]\n",
    "        + b_sibsp[sibsp]\n",
    "        + b_parch[parch]\n",
    "        + b_embarked[embarked]\n",
    "    )\n",
    "    if survived is None:  # record `probs` value in prediction\n",
    "        numpyro.deterministic(\"probs\", expit(logits))\n",
    "    numpyro.sample(\"survived\", dist.Bernoulli(logits=logits), obs=survived)"
   ]
  },
  {
   "cell_type": "markdown",
   "metadata": {},
   "source": [
    "Note that in the model, the prior for `age` is `dist.Normal(age_mu, age_sigma)`, where the values of `age_mu` and `age_sigma` depend on `title`. Because there are missing values in `age`, we will encode those missing values in the latent parameter `age_impute`. Then we can replace `NaN` entries in `age` with the vector `age_impute`. Under the hood, similar to `model2` in the above remark, `age_impute` will have prior `dist.Normal(age_mu, age_sigma)`."
   ]
  },
  {
   "cell_type": "markdown",
   "metadata": {},
   "source": [
    "### Sampling"
   ]
  },
  {
   "cell_type": "markdown",
   "metadata": {},
   "source": [
    "We will use MCMC with NUTS kernel to sample both regression coefficients and imputed values."
   ]
  },
  {
   "cell_type": "code",
   "execution_count": 9,
   "metadata": {},
   "outputs": [
    {
     "name": "stderr",
     "output_type": "stream",
     "text": [
      "sample: 100%|██████████| 2000/2000 [00:20<00:00, 97.78it/s, 63 steps of size 6.78e-02. acc. prob=0.93] \n"
     ]
    },
    {
     "name": "stdout",
     "output_type": "stream",
     "text": [
      "\n",
      "                     mean       std    median      5.0%     95.0%     n_eff     r_hat\n",
      "              a      0.16      0.82      0.16     -1.24      1.42   1245.25      1.00\n",
      "  age_impute[0]      0.24      0.83      0.28     -1.13      1.58   2586.24      1.00\n",
      "  age_impute[1]     -0.09      0.86     -0.08     -1.43      1.38   2008.07      1.00\n",
      "  age_impute[2]      0.36      0.79      0.33     -0.96      1.61   1409.93      1.00\n",
      "  age_impute[3]      0.21      0.89      0.23     -1.24      1.67   2565.59      1.00\n",
      "  age_impute[4]     -0.65      0.90     -0.63     -2.07      0.92   2164.18      1.00\n",
      "  age_impute[5]      0.23      0.87      0.22     -1.12      1.65   2028.33      1.00\n",
      "  age_impute[6]      0.44      0.80      0.44     -0.87      1.79   2666.55      1.00\n",
      "  age_impute[7]     -0.66      0.91     -0.65     -2.05      0.97   2164.02      1.00\n",
      "  age_impute[8]     -0.08      0.89     -0.09     -1.56      1.33   1493.14      1.00\n",
      "  age_impute[9]      0.24      0.91      0.25     -1.30      1.79   1550.50      1.00\n",
      " age_impute[10]      0.22      0.86      0.22     -1.23      1.55   2555.96      1.00\n",
      " age_impute[11]      0.17      0.85      0.19     -1.27      1.47   1788.85      1.00\n",
      " age_impute[12]     -0.64      0.91     -0.64     -2.10      0.85   1963.00      1.00\n",
      " age_impute[13]      0.20      0.91      0.18     -1.29      1.61   2705.10      1.00\n",
      " age_impute[14]     -0.02      0.87     -0.01     -1.43      1.41   2286.11      1.00\n",
      " age_impute[15]      0.38      0.84      0.39     -1.05      1.67   1536.08      1.00\n",
      " age_impute[16]     -1.74      0.25     -1.74     -2.13     -1.32   2398.45      1.00\n",
      " age_impute[17]      0.21      0.87      0.22     -1.15      1.61   1902.30      1.00\n",
      " age_impute[18]      0.23      0.93      0.25     -1.36      1.70   1786.59      1.00\n",
      " age_impute[19]     -0.67      0.87     -0.64     -2.18      0.73   2159.56      1.00\n",
      " age_impute[20]      0.21      0.93      0.24     -1.24      1.81   1988.41      1.00\n",
      " age_impute[21]      0.19      0.89      0.23     -1.27      1.55   2210.75      1.00\n",
      " age_impute[22]      0.19      0.91      0.19     -1.34      1.64   1901.05      1.00\n",
      " age_impute[23]     -0.15      0.87     -0.14     -1.62      1.20   2104.69      1.00\n",
      " age_impute[24]     -0.69      0.92     -0.68     -2.23      0.74   2151.08      1.00\n",
      " age_impute[25]      0.16      0.87      0.18     -1.20      1.63   1705.91      1.00\n",
      " age_impute[26]      0.20      0.84      0.23     -1.21      1.53   1640.32      1.00\n",
      " age_impute[27]     -0.71      0.91     -0.71     -2.18      0.77   2322.71      1.00\n",
      " age_impute[28]      0.60      0.75      0.63     -0.60      1.77   1843.93      1.00\n",
      " age_impute[29]      0.22      0.85      0.20     -1.27      1.57   2957.58      1.00\n",
      " age_impute[30]      0.23      0.85      0.22     -1.08      1.63   2677.75      1.00\n",
      " age_impute[31]     -1.71      0.27     -1.72     -2.10     -1.21   2743.72      1.00\n",
      " age_impute[32]      0.43      0.85      0.45     -0.97      1.81   1540.82      1.00\n",
      " age_impute[33]      0.32      0.85      0.28     -1.06      1.69   2294.27      1.00\n",
      " age_impute[34]     -1.72      0.28     -1.73     -2.20     -1.27   2587.75      1.00\n",
      " age_impute[35]     -0.42      0.87     -0.41     -2.01      0.81   1742.01      1.00\n",
      " age_impute[36]      0.28      0.86      0.29     -1.19      1.61   1997.53      1.00\n",
      " age_impute[37]      0.30      0.83      0.33     -0.92      1.83   2293.61      1.00\n",
      " age_impute[38]      0.34      0.78      0.34     -0.82      1.71   2401.14      1.00\n",
      " age_impute[39]      0.18      0.92      0.18     -1.24      1.80   1322.22      1.00\n",
      " age_impute[40]     -0.66      0.89     -0.66     -2.05      0.77   1823.56      1.00\n",
      " age_impute[41]      0.18      0.84      0.19     -1.43      1.40   2463.71      1.00\n",
      " age_impute[42]      0.24      0.88      0.25     -1.25      1.62   2140.17      1.00\n",
      " age_impute[43]      0.21      0.82      0.24     -1.13      1.55   1741.40      1.00\n",
      " age_impute[44]     -0.40      0.93     -0.39     -1.88      1.15   1622.82      1.00\n",
      " age_impute[45]     -0.33      0.88     -0.32     -1.78      1.09   1545.22      1.00\n",
      " age_impute[46]     -0.31      0.90     -0.33     -1.88      1.10   1636.27      1.00\n",
      " age_impute[47]     -0.70      0.91     -0.70     -2.26      0.69   2421.54      1.00\n",
      " age_impute[48]      0.21      0.89      0.21     -1.22      1.71   1827.38      1.00\n",
      " age_impute[49]      0.43      0.77      0.45     -0.81      1.69   1925.91      1.00\n",
      " age_impute[50]      0.25      0.85      0.24     -1.08      1.60   1822.18      1.00\n",
      " age_impute[51]     -0.30      0.88     -0.32     -1.63      1.20   2241.01      1.00\n",
      " age_impute[52]      0.36      0.82      0.36     -0.96      1.71   2302.90      1.00\n",
      " age_impute[53]     -0.66      0.93     -0.64     -2.29      0.84   2165.71      1.00\n",
      " age_impute[54]      0.25      0.88      0.27     -1.33      1.49   2383.03      1.00\n",
      " age_impute[55]      0.33      0.87      0.33     -0.96      1.86   1869.82      1.00\n",
      " age_impute[56]      0.38      0.79      0.39     -1.04      1.54   1529.90      1.00\n",
      " age_impute[57]      0.00      0.80     -0.02     -1.34      1.30   2421.47      1.00\n",
      " age_impute[58]     -0.68      0.89     -0.67     -2.11      0.77   1634.02      1.00\n",
      " age_impute[59]     -0.13      0.89     -0.12     -1.64      1.20   1500.87      1.00\n",
      " age_impute[60]     -0.62      0.87     -0.58     -2.00      0.82   2128.74      1.00\n",
      " age_impute[61]      0.21      0.84      0.23     -1.22      1.56   2513.99      1.00\n",
      " age_impute[62]     -0.58      0.92     -0.57     -1.98      1.03   1743.63      1.00\n",
      " age_impute[63]      0.21      0.88      0.22     -1.19      1.65   1688.70      1.00\n",
      " age_impute[64]     -0.70      0.91     -0.66     -2.23      0.78   2030.86      1.00\n",
      " age_impute[65]      0.40      0.74      0.42     -0.84      1.62   1356.12      1.00\n",
      " age_impute[66]      0.24      0.94      0.21     -1.18      1.89   2818.80      1.00\n",
      " age_impute[67]      0.33      0.73      0.32     -0.81      1.58   1728.30      1.00\n",
      " age_impute[68]      0.33      0.87      0.32     -0.94      1.95   2004.02      1.00\n",
      " age_impute[69]      0.23      0.94      0.22     -1.29      1.70   1422.91      1.00\n",
      " age_impute[70]     -0.66      0.86     -0.63     -2.14      0.66   1788.58      1.00\n",
      " age_impute[71]     -0.68      0.85     -0.70     -2.16      0.62   2117.80      1.00\n",
      " age_impute[72]      0.19      0.85      0.16     -1.19      1.60   2170.50      1.00\n",
      " age_impute[73]      0.38      0.77      0.38     -0.74      1.77   1884.55      1.00\n",
      " age_impute[74]     -0.67      0.89     -0.66     -2.01      0.89   1555.52      1.00\n",
      " age_impute[75]      0.42      0.84      0.40     -0.89      1.84   1572.40      1.00\n",
      " age_impute[76]      0.20      0.86      0.21     -1.24      1.53   2927.68      1.00\n",
      " age_impute[77]      0.19      0.86      0.19     -1.24      1.51   1905.19      1.00\n",
      " age_impute[78]     -0.42      0.88     -0.40     -1.91      0.97   1974.72      1.00\n",
      " age_impute[79]      0.20      0.84      0.20     -1.18      1.57   2521.30      1.00\n",
      " age_impute[80]      0.24      0.85      0.26     -1.22      1.58   1827.72      1.00\n",
      " age_impute[81]      0.26      0.87      0.27     -1.06      1.79   2861.22      1.00\n",
      " age_impute[82]      0.62      0.82      0.61     -0.61      2.00   1460.65      1.00\n",
      " age_impute[83]      0.21      0.84      0.21     -1.08      1.69   2188.02      1.00\n",
      " age_impute[84]      0.21      0.86      0.21     -1.31      1.58   1412.42      1.00\n",
      " age_impute[85]      0.26      0.85      0.24     -1.02      1.77   2584.05      1.00\n",
      " age_impute[86]      0.32      0.78      0.33     -0.96      1.58   1863.32      1.00\n",
      " age_impute[87]     -0.14      0.87     -0.13     -1.47      1.39   2134.81      1.00\n",
      " age_impute[88]      0.21      0.90      0.23     -1.39      1.53   1753.33      1.00\n",
      " age_impute[89]      0.23      0.93      0.22     -1.05      1.93   3708.57      1.00\n",
      " age_impute[90]      0.40      0.81      0.38     -0.92      1.76   2073.74      1.00\n",
      " age_impute[91]      0.25      0.94      0.27     -1.29      1.77   2319.92      1.00\n",
      " age_impute[92]      0.20      0.86      0.19     -1.25      1.51   2083.08      1.00\n",
      " age_impute[93]      0.24      0.88      0.26     -1.12      1.76   2033.56      1.00\n",
      " age_impute[94]      0.21      0.90      0.16     -1.22      1.71   2580.44      1.00\n",
      " age_impute[95]      0.22      0.91      0.20     -1.18      1.75   1771.56      1.00\n",
      " age_impute[96]      0.35      0.92      0.32     -1.10      1.83   2079.93      1.00\n",
      " age_impute[97]      0.28      0.86      0.29     -1.08      1.73   2084.46      1.00\n",
      " age_impute[98]     -0.39      0.92     -0.40     -1.88      1.05   1925.32      1.00\n",
      " age_impute[99]      0.16      0.93      0.13     -1.26      1.70   1676.54      1.00\n",
      "age_impute[100]      0.24      0.88      0.22     -1.40      1.48   1734.88      1.00\n",
      "age_impute[101]      0.20      0.87      0.20     -1.23      1.61   2228.05      1.00\n",
      "age_impute[102]     -0.31      0.91     -0.30     -1.67      1.24   2085.58      1.00\n",
      "age_impute[103]     -0.01      0.85     -0.03     -1.28      1.54   2224.10      1.00\n",
      "age_impute[104]      0.26      0.90      0.29     -1.39      1.56   1822.14      1.00\n",
      "age_impute[105]      0.25      0.88      0.26     -1.22      1.66   1894.29      1.00\n",
      "age_impute[106]      0.25      0.87      0.23     -1.25      1.62   3146.76      1.00\n",
      "age_impute[107]      0.20      0.86      0.21     -1.15      1.66   2146.91      1.00\n",
      "age_impute[108]      0.34      0.83      0.36     -1.11      1.60   1753.22      1.00\n",
      "age_impute[109]      0.27      0.88      0.23     -1.06      1.81   1534.56      1.00\n",
      "age_impute[110]      0.32      0.77      0.36     -0.95      1.52   1705.99      1.00\n",
      "age_impute[111]      0.22      0.84      0.20     -1.08      1.66   2456.52      1.00\n",
      "age_impute[112]     -0.02      0.87     -0.02     -1.45      1.42   1958.71      1.00\n",
      "age_impute[113]      0.23      0.88      0.24     -1.13      1.79   1510.25      1.00\n",
      "age_impute[114]      0.39      0.81      0.37     -0.96      1.68   1635.99      1.00\n",
      "age_impute[115]      0.20      0.87      0.19     -1.23      1.63   1613.88      1.01\n",
      "age_impute[116]      0.25      0.86      0.22     -1.20      1.53   1401.08      1.00\n",
      "age_impute[117]     -0.35      0.90     -0.34     -1.93      1.03   2147.49      1.00\n",
      "age_impute[118]      0.23      0.95      0.24     -1.30      1.87   3027.20      1.00\n",
      "age_impute[119]     -0.63      0.95     -0.67     -2.19      0.89   1614.50      1.00\n",
      "age_impute[120]      0.60      0.80      0.60     -0.53      2.04   1575.05      1.00\n",
      "age_impute[121]      0.20      0.89      0.23     -1.21      1.64   2117.62      1.00\n",
      "age_impute[122]      0.22      0.82      0.18     -1.28      1.36   2296.25      1.00\n",
      "age_impute[123]     -0.38      0.95     -0.41     -1.95      1.19   1581.75      1.00\n",
      "age_impute[124]     -0.59      0.94     -0.59     -2.17      0.93   1677.39      1.00\n",
      "age_impute[125]      0.24      0.91      0.22     -1.21      1.69   2146.46      1.00\n",
      "age_impute[126]      0.21      0.83      0.20     -1.23      1.51   2283.99      1.00\n",
      "age_impute[127]      0.36      0.85      0.35     -0.94      1.81   2553.12      1.00\n",
      "age_impute[128]      0.25      0.91      0.29     -1.24      1.69   1651.53      1.00\n",
      "age_impute[129]     -0.71      0.90     -0.69     -2.07      0.85   2127.58      1.00\n",
      "age_impute[130]      0.19      0.85      0.17     -1.29      1.46   2185.88      1.00\n",
      "age_impute[131]      0.23      0.89      0.24     -1.21      1.67   2229.93      1.00\n",
      "age_impute[132]      0.31      0.88      0.29     -1.19      1.71   2369.68      1.00\n",
      "age_impute[133]      0.23      0.90      0.21     -1.12      1.74   1457.53      1.00\n",
      "age_impute[134]     -0.12      0.93     -0.16     -1.53      1.41   2282.20      1.00\n",
      "age_impute[135]      0.22      0.84      0.24     -1.07      1.74   1950.07      1.00\n",
      "age_impute[136]      0.19      0.85      0.19     -1.17      1.59   2689.67      1.00\n",
      "age_impute[137]     -0.68      0.90     -0.64     -2.22      0.76   2181.09      1.00\n",
      "age_impute[138]      0.19      0.94      0.18     -1.41      1.65   1958.06      1.00\n",
      "age_impute[139]      0.19      0.83      0.19     -1.13      1.61   1739.59      1.00\n",
      "age_impute[140]      0.39      0.78      0.38     -0.91      1.59   2192.48      1.00\n",
      "age_impute[141]      0.25      0.89      0.26     -1.23      1.59   1951.71      1.00\n",
      "age_impute[142]     -0.31      0.92     -0.32     -1.78      1.22   2244.74      1.00\n",
      "age_impute[143]     -0.15      0.85     -0.14     -1.51      1.14   2161.58      1.00\n",
      "age_impute[144]     -0.68      0.94     -0.68     -2.26      0.72   2216.52      1.00\n",
      "age_impute[145]     -1.75      0.25     -1.74     -2.18     -1.35   2062.83      1.00\n",
      "age_impute[146]      0.34      0.86      0.35     -0.99      1.74   2279.86      1.00\n",
      "age_impute[147]      0.25      0.86      0.27     -1.28      1.54   2776.97      1.00\n",
      "age_impute[148]     -0.67      0.88     -0.66     -2.10      0.76   2315.78      1.00\n",
      "age_impute[149]      0.28      0.83      0.28     -1.06      1.60   1820.67      1.00\n",
      "age_impute[150]      0.20      0.89      0.23     -1.30      1.56   2593.48      1.00\n",
      "age_impute[151]      0.21      0.87      0.19     -1.16      1.66   1729.75      1.00\n",
      "age_impute[152]      0.01      0.86     -0.00     -1.52      1.34   2816.59      1.00\n",
      "age_impute[153]      0.19      0.89      0.23     -1.36      1.58   2203.93      1.00\n",
      "age_impute[154]      1.06      0.96      1.07     -0.47      2.65   1731.83      1.00\n",
      "age_impute[155]      0.22      0.83      0.23     -1.08      1.56   1806.10      1.00\n",
      "age_impute[156]      0.26      0.94      0.27     -1.30      1.78   1560.04      1.00\n",
      "age_impute[157]      0.22      0.91      0.20     -1.25      1.80   1518.76      1.00\n",
      "age_impute[158]      0.23      0.87      0.22     -1.13      1.71   1660.13      1.00\n",
      "age_impute[159]      0.21      0.90      0.23     -1.13      1.71   1828.73      1.00\n",
      "age_impute[160]      0.20      0.85      0.19     -1.23      1.52   1595.02      1.00\n",
      "age_impute[161]     -0.49      0.91     -0.50     -2.03      0.94   1652.39      1.00\n",
      "age_impute[162]      0.36      0.84      0.35     -0.93      1.83   2238.71      1.00\n",
      "age_impute[163]      0.31      0.85      0.29     -1.10      1.66   1898.82      1.00\n",
      "age_impute[164]      0.22      0.87      0.22     -1.29      1.64   2365.04      1.00\n",
      "age_impute[165]      0.23      0.86      0.24     -1.06      1.54   2196.56      1.00\n",
      "age_impute[166]     -0.10      0.87     -0.10     -1.46      1.35   2108.08      1.00\n",
      "age_impute[167]      0.23      0.90      0.23     -1.11      1.76   1835.03      1.00\n",
      "age_impute[168]      0.20      0.84      0.19     -1.26      1.47   2068.07      1.00\n",
      "age_impute[169]      0.01      0.89      0.01     -1.49      1.38   2389.25      1.00\n",
      "age_impute[170]      0.15      0.89      0.15     -1.31      1.53   1983.34      1.00\n",
      "age_impute[171]      0.42      0.84      0.44     -0.85      1.85   2362.59      1.00\n",
      "age_impute[172]      0.25      0.88      0.22     -1.27      1.54   2026.27      1.00\n",
      "age_impute[173]     -0.44      0.88     -0.46     -1.79      1.02   2604.42      1.00\n",
      "age_impute[174]      0.22      0.83      0.24     -1.07      1.59   2626.77      1.00\n",
      "age_impute[175]      0.23      0.94      0.26     -1.37      1.76   2601.98      1.00\n",
      "age_impute[176]     -0.43      0.89     -0.42     -1.80      1.06   2353.81      1.00\n",
      "      age_mu[0]      0.19      0.04      0.19      0.11      0.26   1661.98      1.00\n",
      "      age_mu[1]     -0.55      0.08     -0.55     -0.66     -0.41   1198.59      1.00\n",
      "      age_mu[2]      0.42      0.08      0.42      0.29      0.55   1319.36      1.00\n",
      "      age_mu[3]     -1.73      0.04     -1.73     -1.79     -1.65   1223.88      1.00\n",
      "      age_mu[4]      0.85      0.19      0.85      0.57      1.17   1372.65      1.00\n",
      "   age_sigma[0]      0.88      0.03      0.88      0.83      0.93   1040.64      1.00\n",
      "   age_sigma[1]      0.90      0.05      0.90      0.81      0.98   1098.46      1.00\n",
      "   age_sigma[2]      0.79      0.05      0.79      0.70      0.88   1024.36      1.00\n",
      "   age_sigma[3]      0.26      0.03      0.25      0.21      0.31   1604.62      1.00\n",
      "   age_sigma[4]      0.94      0.14      0.93      0.74      1.17   1099.01      1.00\n",
      "          b_Age     -0.44      0.13     -0.44     -0.64     -0.23    994.55      1.00\n",
      "  b_Embarked[0]     -0.30      0.53     -0.30     -1.15      0.56    697.67      1.00\n",
      "  b_Embarked[1]      0.27      0.54      0.28     -0.72      1.07    704.89      1.00\n",
      "  b_Embarked[2]      0.02      0.55      0.00     -0.95      0.82    549.84      1.00\n",
      "     b_Parch[0]      0.46      0.57      0.48     -0.41      1.46    625.96      1.00\n",
      "     b_Parch[1]      0.10      0.57      0.09     -0.81      1.04    640.32      1.00\n",
      "     b_Parch[2]     -0.48      0.57     -0.47     -1.28      0.57    628.88      1.00\n",
      "    b_Pclass[0]      1.17      0.56      1.16      0.27      2.08    533.19      1.00\n",
      "    b_Pclass[1]      0.02      0.56      0.02     -0.83      1.00    550.01      1.00\n",
      "    b_Pclass[2]     -1.22      0.56     -1.20     -2.12     -0.28    541.13      1.00\n",
      "       b_Sex[0]      1.16      0.71      1.15     -0.00      2.30    807.53      1.00\n",
      "       b_Sex[1]     -1.01      0.69     -1.03     -2.17      0.06   1001.63      1.00\n",
      "     b_SibSp[0]      0.27      0.62      0.28     -0.76      1.24    862.20      1.00\n",
      "     b_SibSp[1]     -0.18      0.64     -0.18     -1.24      0.80    852.57      1.00\n",
      "     b_Title[0]     -0.96      0.57     -0.97     -1.85     -0.00    596.91      1.00\n",
      "     b_Title[1]     -0.34      0.62     -0.34     -1.36      0.67    728.62      1.00\n",
      "     b_Title[2]      0.54      0.63      0.54     -0.50      1.53    671.43      1.00\n",
      "     b_Title[3]      1.46      0.63      1.47      0.39      2.46    767.41      1.00\n",
      "     b_Title[4]     -0.67      0.61     -0.69     -1.61      0.44    764.05      1.00\n",
      "\n",
      "Number of divergences: 0\n"
     ]
    }
   ],
   "source": [
    "mcmc = MCMC(NUTS(model), 1000, 1000)\n",
    "mcmc.run(random.PRNGKey(0), **data)\n",
    "mcmc.print_summary()"
   ]
  },
  {
   "cell_type": "markdown",
   "metadata": {},
   "source": [
    "To double check that the assumption \"age is correlated with title\" is reasonable, let's look at the infered age by title. Recall that we performed standarization on `age`, so here we need to scale back to original domain."
   ]
  },
  {
   "cell_type": "code",
   "execution_count": 10,
   "metadata": {},
   "outputs": [
    {
     "data": {
      "text/plain": [
       "{'Mr.': 32.431396,\n",
       " 'Miss.': 21.763844,\n",
       " 'Mrs.': 35.838753,\n",
       " 'Master.': 4.6307297,\n",
       " 'Misc.': 42.057827}"
      ]
     },
     "execution_count": 10,
     "metadata": {},
     "output_type": "execute_result"
    }
   ],
   "source": [
    "age_by_title = age_mean + age_std * mcmc.get_samples()[\"age_mu\"].mean(axis=0)\n",
    "dict(zip(title_cat.categories, age_by_title))"
   ]
  },
  {
   "cell_type": "markdown",
   "metadata": {},
   "source": [
    "The infered result confirms our assumption that `Age` is correlated with `Title`:\n",
    "\n",
    "+ those with `Master.` title has pretty small age (in other words, they are children in the ship) comparing to the other groups,\n",
    "+ those with `Mrs.` title have larger age than those with `Miss.` title (in average).\n",
    "\n",
    "We can also see that the result is similar to the actual statistical mean of `Age` given `Title` in our training dataset:"
   ]
  },
  {
   "cell_type": "code",
   "execution_count": 11,
   "metadata": {},
   "outputs": [
    {
     "data": {
      "text/plain": [
       "Title\n",
       "Master.     4.574167\n",
       "Misc.      42.384615\n",
       "Miss.      21.773973\n",
       "Mr.        32.368090\n",
       "Mrs.       35.898148\n",
       "Name: Age, dtype: float64"
      ]
     },
     "execution_count": 11,
     "metadata": {},
     "output_type": "execute_result"
    }
   ],
   "source": [
    "d.groupby(\"Title\")[\"Age\"].mean()"
   ]
  },
  {
   "cell_type": "markdown",
   "metadata": {},
   "source": [
    "So far so good, we have many information about the regression coefficients together with imputed values and their uncertainties. Let's inspect those results a bit:\n",
    "\n",
    "+ The mean value `-0.44` of `b_Age` implies that those with smaller ages have better chance to survive.\n",
    "+ The mean value `(1.11, -1.07)` of `b_Sex` implies that female passengers have higher chance to survive than male passengers."
   ]
  },
  {
   "cell_type": "markdown",
   "metadata": {},
   "source": [
    "## Prediction"
   ]
  },
  {
   "cell_type": "markdown",
   "metadata": {},
   "source": [
    "In NumPyro, we can use [Predictive](http://num.pyro.ai/en/stable/utilities.html#numpyro.infer.util.Predictive) utility for making predictions from posterior samples. Let's check how well the model performs on the training dataset. In this case, we will predict the chance to survive of each passenger (in other words, the `probs` values)."
   ]
  },
  {
   "cell_type": "code",
   "execution_count": 12,
   "metadata": {},
   "outputs": [
    {
     "data": {
      "text/plain": [
       "DeviceArray(0.8260382, dtype=float32)"
      ]
     },
     "execution_count": 12,
     "metadata": {},
     "output_type": "execute_result"
    }
   ],
   "source": [
    "posterior = mcmc.get_samples().copy()\n",
    "survived = data.pop(\"survived\")\n",
    "survived_probs = Predictive(model, posterior)(random.PRNGKey(1), **data)[\"probs\"]\n",
    "(\n",
    "    (survived_probs.mean(axis=0) >= 0.5).astype(jnp.uint8) == survived\n",
    ").sum() / survived.shape[0]"
   ]
  },
  {
   "cell_type": "markdown",
   "metadata": {},
   "source": [
    "This is a pretty good result using a simple logistic regression model."
   ]
  },
  {
   "cell_type": "markdown",
   "metadata": {},
   "source": [
    "Now comes to the test set, which also contains missing data in `Age` feature. We can't use `age_impute` from posterior samples because it is specific to the training set. So we need to marginalize them from the joint posterior distribution first:"
   ]
  },
  {
   "cell_type": "code",
   "execution_count": 13,
   "metadata": {},
   "outputs": [
    {
     "data": {
      "text/plain": [
       "DeviceArray([[ 0.22152053, -0.61639136,  1.7305413 , ..., -1.1393623 ,\n",
       "               0.50946575, -1.0020618 ],\n",
       "             [ 0.31746617,  0.29219964, -0.8941262 , ...,  1.5754844 ,\n",
       "              -0.7020866 ,  0.43354604],\n",
       "             [-0.38118613, -0.01952589,  1.7682728 , ..., -1.2500907 ,\n",
       "               1.3128119 , -1.3545763 ],\n",
       "             ...,\n",
       "             [-0.35086122, -0.61043584,  0.48523673, ...,  1.2864797 ,\n",
       "              -0.57773304, -0.3193913 ],\n",
       "             [ 0.60243225,  0.7971147 ,  0.43930596, ..., -0.16035162,\n",
       "               0.81113493,  0.09520832],\n",
       "             [-0.2894233 , -0.8771592 ,  0.57905334, ...,  0.5363015 ,\n",
       "              -0.27452654, -0.9621993 ]], dtype=float32)"
      ]
     },
     "execution_count": 13,
     "metadata": {},
     "output_type": "execute_result"
    }
   ],
   "source": [
    "posterior.pop(\"age_impute\", None)"
   ]
  },
  {
   "cell_type": "markdown",
   "metadata": {},
   "source": [
    "Then we will use the generative model for `age`, which is `dist.Normal(age_mu, age_sigma)`, to generate missing values for the test set:\n",
    "```python\n",
    "def model(age, ...):\n",
    "    ...\n",
    "    age_isnan = jnp.isnan(age)\n",
    "    age_nanidx = jnp.nonzero(age_isnan)[0]\n",
    "    age_impute = numpyro.sample(\"age_impute\", dist.Normal(age_mu[age_nanidx], age_sigma[age_nanidx]))\n",
    "```"
   ]
  },
  {
   "cell_type": "markdown",
   "metadata": {},
   "source": [
    "All ingredients are ready for making prediction. We just need to perform the same data transformation process as the train set and use `Predictive` utility as before."
   ]
  },
  {
   "cell_type": "code",
   "execution_count": 14,
   "metadata": {},
   "outputs": [],
   "source": [
    "test_df = pd.read_csv(\n",
    "    \"https://raw.githubusercontent.com/agconti/kaggle-titanic/master/data/test.csv\"\n",
    ")\n",
    "d = test_df.copy()\n",
    "d[\"Title\"] = (\n",
    "    d.Name.str.split(\", \")\n",
    "    .str.get(1)\n",
    "    .str.split(\" \")\n",
    "    .str.get(0)\n",
    "    .apply(lambda x: x if x in [\"Mr.\", \"Miss.\", \"Mrs.\", \"Master.\"] else \"Misc.\")\n",
    ")\n",
    "test_data = dict(\n",
    "    age=d.Age.pipe(lambda x: (x - age_mean) / age_std).values,\n",
    "    pclass=d.Pclass.values - 1,\n",
    "    title=d.Title.astype(title_cat).cat.codes.values,\n",
    "    sex=(d.Sex == \"male\").astype(int).values,\n",
    "    sibsp=d.SibSp.clip(0, 1).values,\n",
    "    parch=d.Parch.clip(0, 2).values,\n",
    "    embarked=d.Embarked.astype(embarked_cat).cat.codes.values,\n",
    ")\n",
    "\n",
    "survived_probs = Predictive(model, posterior)(random.PRNGKey(2), **test_data)[\"probs\"]\n",
    "d[\"Survived\"] = (survived_probs.mean(axis=0) >= 0.5).astype(jnp.uint8)"
   ]
  },
  {
   "cell_type": "code",
   "execution_count": 15,
   "metadata": {},
   "outputs": [
    {
     "data": {
      "image/png": "[encoded data removed]",
      "text/plain": [
       "<Figure size 720x432 with 1 Axes>"
      ]
     },
     "metadata": {},
     "output_type": "display_data"
    }
   ],
   "source": [
    "num_passengers = 15\n",
    "sample_idx = random.choice(\n",
    "    random.PRNGKey(0), range(d.shape[0]), num_passengers, replace=False\n",
    ")\n",
    "sample_idx.sort()\n",
    "\n",
    "plt.figure(figsize=(10, 6))\n",
    "plt.plot(survived_probs.mean(0)[sample_idx], \"o\")\n",
    "plt.xticks(\n",
    "    ticks=range(num_passengers), labels=d.PassengerId.iloc[sample_idx], rotation=0\n",
    ")\n",
    "\n",
    "p_mu = jnp.mean(survived_probs, axis=0)[sample_idx]\n",
    "p_ci = jnp.percentile(survived_probs, q=(5, 95), axis=0)[:, sample_idx]\n",
    "for i in range(num_passengers):\n",
    "    plt.plot(jnp.repeat(i, 2), p_ci[:, i], \"k\", lw=1)\n",
    "\n",
    "plt.xlabel(\"PassengerID\")\n",
    "plt.ylabel(\"Chance to Survive\")\n",
    "plt.title(\n",
    "    f\"Chance to survive (with 90% CI) of {num_passengers}\"\n",
    "    \" random passengers in the test data\"\n",
    ")\n",
    "plt.show()"
   ]
  },
  {
   "cell_type": "markdown",
   "metadata": {},
   "source": [
    "## References\n",
    "\n",
    "1. McElreath, R. (2016). Statistical Rethinking: A Bayesian Course with Examples in R and Stan.\n",
    "2. Kaggle competition: [Titanic: Machine Learning from Disaster](https://www.kaggle.com/c/titanic)"
   ]
  }
 ],
 "metadata": {
  "kernelspec": {
   "display_name": "Python 3",
   "language": "python",
   "name": "python3"
  },
  "language_info": {
   "codemirror_mode": {
    "name": "ipython",
    "version": 3
   },
   "file_extension": ".py",
   "mimetype": "text/x-python",
   "name": "python",
   "nbconvert_exporter": "python",
   "pygments_lexer": "ipython3",
   "version": "3.8.3"
  }
 },
 "nbformat": 4,
 "nbformat_minor": 4
}
