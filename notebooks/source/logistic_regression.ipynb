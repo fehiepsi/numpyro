{
 "cells": [
  {
   "cell_type": "markdown",
   "metadata": {},
   "source": [
    "# Benchmark NumPyro in large dataset"
   ]
  },
  {
   "cell_type": "markdown",
   "metadata": {},
   "source": [
    "This notebook uses `numpyro` and replicates experiments in references [1] which evaluates the performance of NUTS on various frameworks. The benchmark is run with CUDA 10.0 on a NVIDIA RTX 2070."
   ]
  },
  {
   "cell_type": "code",
   "execution_count": 1,
   "metadata": {},
   "outputs": [],
   "source": [
    "import time\n",
    "\n",
    "import numpy as onp\n",
    "\n",
    "import jax.numpy as np\n",
    "from jax import random\n",
    "# NB: replace gpu by cpu to run this notebook in cpu\n",
    "from jax.config import config; config.update(\"jax_platform_name\", \"gpu\")\n",
    "\n",
    "import numpyro\n",
    "import numpyro.distributions as dist\n",
    "from numpyro.examples.datasets import COVTYPE, load_dataset\n",
    "from numpyro.mcmc import HMC, MCMC, NUTS\n"
    "assert numpyro.__version__.startswith('0.2.0')\n"
   ]
  },
  {
   "cell_type": "markdown",
   "metadata": {},
   "source": [
    "We do preprocessing steps as in [source code](https://github.com/google-research/google-research/blob/master/simple_probabilistic_programming/no_u_turn_sampler/logistic_regression.py) of reference [1]:"
   ]
  },
  {
   "cell_type": "code",
   "execution_count": 2,
   "metadata": {},
   "outputs": [
    {
     "name": "stdout",
     "output_type": "stream",
     "text": [
      "Data shape: (581012, 55)\n",
      "Label distribution: 211840 has label 1, 369172 has label 0\n"
     ]
    }
   ],
   "source": [
    "_, fetch = load_dataset(COVTYPE, shuffle=False)\n",
    "features, labels = fetch()\n",
    "\n",
    "# normalize features and add intercept\n",
    "features = (features - features.mean(0)) / features.std(0)\n",
    "features = np.hstack([features, np.ones((features.shape[0], 1))])\n",
    "\n",
    "# make binary feature\n",
    "_, counts = onp.unique(labels, return_counts=True)\n",
    "specific_category = np.argmax(counts)\n",
    "labels = (labels == specific_category)\n",
    "\n",
    "N, dim = features.shape\n",
    "print(\"Data shape:\", features.shape)\n",
    "print(\"Label distribution: {} has label 1, {} has label 0\"\n",
    "      .format(labels.sum(), N - labels.sum()))"
   ]
  },
  {
   "cell_type": "markdown",
   "metadata": {},
   "source": [
    "Now, we construct the model:"
   ]
  },
  {
   "cell_type": "code",
   "execution_count": 3,
   "metadata": {},
   "outputs": [],
   "source": [
    "def model(data, labels):\n",
    "    coefs = numpyro.sample('coefs', dist.Normal(np.zeros(dim), np.ones(dim)))\n",
    "    logits = np.dot(data, coefs)\n",
    "    return numpyro.sample('obs', dist.Bernoulli(logits=logits), obs=labels)"
   ]
  },
  {
   "cell_type": "markdown",
   "metadata": {},
   "source": [
    "## Benchmark HMC"
   ]
  },
  {
   "cell_type": "code",
   "execution_count": 4,
   "metadata": {},
   "outputs": [
    {
     "name": "stdout",
     "output_type": "stream",
     "text": [
      "number of leapfrog steps: 10000\n",
      "avg. time for each step : 0.002748300552368164\n",
      "\n",
      "\n",
      "                mean       std    median      5.0%     95.0%     n_eff     r_hat\n",
      "  coefs[0]      2.16      0.08      2.15      2.14      2.15     99.14      1.00\n",
      "  coefs[1]      0.07      0.07      0.07      0.06      0.09    239.01      1.00\n",
      "  coefs[2]      0.02      0.07      0.02      0.01      0.05    134.05      1.00\n",
      "  coefs[3]     -0.41      0.06     -0.41     -0.42     -0.40    817.48      1.00\n",
      "  coefs[4]     -0.13      0.03     -0.13     -0.13     -0.12   1434.90      1.00\n",
      "  coefs[5]     -0.23      0.02     -0.23     -0.24     -0.23    141.34      1.00\n",
      "  coefs[6]     -0.22      0.09     -0.22     -0.25     -0.21    200.95      1.01\n",
      "  coefs[7]     -0.66      0.04     -0.66     -0.68     -0.65     79.24      1.00\n",
      "  coefs[8]      0.36      0.06      0.36      0.36      0.37    108.47      1.00\n",
      "  coefs[9]     -0.04      0.02     -0.04     -0.05     -0.04    321.91      1.00\n",
      " coefs[10]      0.54      0.02      0.54      0.54      0.55   1402.40      1.00\n",
      " coefs[11]      0.15      0.05      0.15      0.15      0.18     80.01      1.00\n",
      " coefs[12]      0.08      0.02      0.08      0.07      0.09     67.52      1.01\n",
      " coefs[13]     -2.94      0.02     -2.95     -2.95     -2.95     86.41      1.01\n",
      " coefs[14]     -0.37      0.01     -0.37     -0.37     -0.37     51.46      1.02\n",
      " coefs[15]     -0.96      0.01     -0.96     -0.96     -0.96    108.04      1.01\n",
      " coefs[16]     -0.14      0.02     -0.14     -0.14     -0.14     49.62      1.03\n",
      " coefs[17]      0.04      0.07      0.05      0.05      0.05     71.59      1.01\n",
      " coefs[18]      0.12      0.00      0.12      0.12      0.12    214.64      1.00\n",
      " coefs[19]     -1.84      0.02     -1.84     -1.84     -1.84     44.99      1.03\n",
      " coefs[20]     -1.98      0.01     -1.98     -1.98     -1.98     25.61      1.07\n",
      " coefs[21]     -0.02      0.12     -0.01     -0.01     -0.01     88.27      1.01\n",
      " coefs[22]      0.09      0.10      0.10      0.10      0.10    123.29      1.01\n",
      " coefs[23]      0.26      0.06      0.27      0.26      0.27    177.13      1.00\n",
      " coefs[24]      0.13      0.04      0.13      0.12      0.13    274.34      1.00\n",
      " coefs[25]      0.03      0.02      0.03      0.03      0.03     47.39      1.00\n",
      " coefs[26]      0.15      0.04      0.15      0.15      0.15    843.95      1.00\n",
      " coefs[27]     -0.01      0.00     -0.01     -0.01     -0.01     37.35      1.00\n",
      " coefs[28]      0.02      0.13      0.00      0.00      0.00     52.29      1.02\n",
      " coefs[29]      0.09      0.01      0.09      0.09      0.09   1211.66      1.00\n",
      " coefs[30]      0.10      0.02      0.10      0.09      0.10    283.74      1.00\n",
      " coefs[31]      0.03      0.14      0.05      0.05      0.05     46.87      1.02\n",
      " coefs[32]      0.05      0.04      0.05      0.04      0.05     97.29      1.00\n",
      " coefs[33]      0.07      0.05      0.06      0.04      0.07     68.50      1.00\n",
      " coefs[34]      0.17      0.02      0.16      0.16      0.17   1171.24      1.00\n",
      " coefs[35]      0.55      0.07      0.54      0.54      0.56    505.21      1.01\n",
      " coefs[36]      0.59      0.02      0.59      0.58      0.60    215.01      1.03\n",
      " coefs[37]      0.58      0.09      0.58      0.56      0.63     94.12      1.01\n",
      " coefs[38]      0.03      0.02      0.03      0.03      0.03     69.85      1.00\n",
      " coefs[39]      0.04      0.01      0.04      0.04      0.04    513.09      1.00\n",
      " coefs[40]      0.19      0.03      0.19      0.18      0.20     73.01      1.00\n",
      " coefs[41]      0.00      0.07      0.01      0.01      0.01     64.72      1.01\n",
      " coefs[42]      0.37      0.05      0.37      0.36      0.38    959.55      1.00\n",
      " coefs[43]      0.10      0.02      0.10      0.10      0.10     69.53      1.01\n",
      " coefs[44]      0.50      0.05      0.51      0.50      0.53    111.04      1.00\n",
      " coefs[45]     -0.11      0.13     -0.12     -0.20     -0.07     54.57      1.02\n",
      " coefs[46]      0.30      0.03      0.30      0.29      0.30     59.07      1.00\n",
      " coefs[47]     -0.06      0.01     -0.06     -0.06     -0.06   1592.55      1.00\n",
      " coefs[48]      0.11      0.05      0.12      0.11      0.13    151.82      1.00\n",
      " coefs[49]     -0.05      0.11     -0.03     -0.03     -0.03     47.15      1.02\n",
      " coefs[50]     -0.23      0.06     -0.23     -0.23     -0.23    424.12      1.00\n",
      " coefs[51]     -0.16      0.06     -0.16     -0.18     -0.16    204.45      1.00\n",
      " coefs[52]     -0.12      0.04     -0.12     -0.13     -0.11    228.32      1.00\n",
      " coefs[53]     -0.16      0.04     -0.16     -0.16     -0.16    400.13      1.00\n",
      " coefs[54]     -2.27      0.08     -2.26     -2.27     -2.26     88.45      1.01\n",
      "\n",
      "\n"
     ]
    }
   ],
   "source": [
    "step_size = np.sqrt(0.5 / N)\n",
    "kernel = HMC(model, step_size=step_size, trajectory_length=(10 * step_size), adapt_step_size=False)\n",
    "mcmc = MCMC(kernel, num_warmup=500, num_samples=500, progress_bar=False)\n",
    "tic = time.time()\n",
    "mcmc.run(random.PRNGKey(2019), features, labels,\n",
    "         collect_fields=['z', 'num_steps'], collect_warmup=True)\n",
    "num_leapfrogs = mcmc.get_samples()[1].sum().copy()\n",
    "toc = time.time()\n",
    "print(\"number of leapfrog steps:\", num_leapfrogs)\n",
    "print(\"avg. time for each step :\", (toc - tic) / num_leapfrogs)\n",
    "mcmc.print_summary()"
   ]
  },
  {
   "cell_type": "markdown",
   "metadata": {},
   "source": [
    "In CPU, we get `avg. time for each step : 0.029236876797676087`."
   ]
  },
  {
   "cell_type": "markdown",
   "metadata": {},
   "source": [
    "## Benchmark NUTS"
   ]
  },
  {
   "cell_type": "code",
   "execution_count": 5,
   "metadata": {},
   "outputs": [
    {
     "name": "stdout",
     "output_type": "stream",
     "text": [
      "number of leapfrog steps: 57607\n",
      "avg. time for each step : 0.0024694749750140675\n",
      "\n",
      "\n",
      "                mean       std    median      5.0%     95.0%     n_eff     r_hat\n",
      "  coefs[0]      2.09      0.43      1.98      1.60      2.23     12.70      1.07\n",
      "  coefs[1]     -0.10      0.22     -0.04     -0.09     -0.03     13.29      1.07\n",
      "  coefs[2]     -0.08      0.13     -0.06     -0.10      0.09     22.69      1.01\n",
      "  coefs[3]     -0.23      0.24     -0.30     -0.31     -0.23     13.48      1.07\n",
      "  coefs[4]     -0.15      0.17     -0.09     -0.15     -0.08     11.02      1.09\n",
      "  coefs[5]     -0.08      0.24     -0.14     -0.27     -0.05     16.13      1.06\n",
      "  coefs[6]      0.26      0.23      0.24     -0.25      0.34     21.95      0.99\n",
      "  coefs[7]     -0.58      0.22     -0.66     -0.71     -0.35      8.13      1.14\n",
      "  coefs[8]      0.48      0.30      0.57      0.08      0.69      8.83      1.13\n",
      "  coefs[9]      0.02      0.13     -0.01     -0.02      0.00     16.39      1.06\n",
      " coefs[10]      0.29      0.61      0.52     -0.94      0.99      6.54      0.99\n",
      " coefs[11]     -0.05      0.35     -0.01     -0.70      0.26      7.29      1.02\n",
      " coefs[12]     -0.05      0.60      0.12     -1.26      0.68      6.75      0.99\n",
      " coefs[13]     -2.35      0.84     -2.21     -3.48     -1.18      5.41      1.31\n",
      " coefs[14]     -0.32      0.37     -0.31     -0.82      0.37     35.33      1.01\n",
      " coefs[15]     -0.97      0.29     -0.91     -1.33     -0.57     56.36      1.01\n",
      " coefs[16]     -0.94      0.72     -1.07     -1.96      0.52     10.06      1.00\n",
      " coefs[17]     -0.17      0.31     -0.11     -0.81      0.16      7.84      1.05\n",
      " coefs[18]     -0.33      0.67     -0.18     -1.31      0.39      7.87      1.17\n",
      " coefs[19]     -1.03      0.80     -1.05     -2.02      0.27      5.21      1.49\n",
      " coefs[20]     -1.28      0.81     -1.32     -1.93     -0.09      8.95      1.26\n",
      " coefs[21]     -0.26      0.58     -0.00     -1.53      0.03      5.84      1.21\n",
      " coefs[22]     -0.14      0.53      0.05     -1.36      0.14      7.93      1.12\n",
      " coefs[23]     -0.15      0.59     -0.00     -1.39      0.35      7.87      1.06\n",
      " coefs[24]     -0.01      0.18      0.01     -0.19      0.25     10.46      0.99\n",
      " coefs[25]     -0.06      0.20     -0.03     -0.38      0.22      4.42      1.34\n",
      " coefs[26]     -0.09      0.35     -0.01     -0.29      0.30     10.62      1.01\n",
      " coefs[27]     -0.67      0.61     -0.57     -1.51      0.07      6.81      1.34\n",
      " coefs[28]     -0.93      1.30     -0.88     -2.75      1.44     10.90      1.00\n",
      " coefs[29]      0.05      0.07      0.06     -0.09      0.13      9.14      1.10\n",
      " coefs[30]     -0.02      0.14      0.01     -0.25      0.14      7.93      1.05\n",
      " coefs[31]     -0.26      0.50     -0.04     -1.32      0.07      5.07      1.25\n",
      " coefs[32]      0.11      0.12      0.10     -0.04      0.24      4.58      1.32\n",
      " coefs[33]      0.17      0.14      0.18     -0.03      0.37      3.96      1.39\n",
      " coefs[34]      0.10      0.23      0.15      0.08      0.39     15.54      1.01\n",
      " coefs[35]      0.50      0.59      0.39     -0.03      0.72      6.18      1.22\n",
      " coefs[36]      0.38      0.30      0.40     -0.02      0.91      3.88      1.41\n",
      " coefs[37]      0.19      0.18      0.21     -0.08      0.44      3.98      1.39\n",
      " coefs[38]     -0.04      0.08     -0.02     -0.06      0.02     12.24      1.02\n",
      " coefs[39]     -0.02      0.11      0.00     -0.09      0.09     11.06      0.99\n",
      " coefs[40]      0.04      0.05      0.05     -0.02      0.11     14.30      1.02\n",
      " coefs[41]     -0.14      0.28     -0.03     -0.76      0.04      6.29      1.16\n",
      " coefs[42]      0.07      0.36      0.11     -0.42      0.71      4.66      1.31\n",
      " coefs[43]      0.02      0.21      0.04     -0.27      0.36      3.95      1.40\n",
      " coefs[44]      0.18      0.19      0.19     -0.14      0.42      4.98      1.28\n",
      " coefs[45]      0.16      0.32      0.17     -0.31      0.55      4.11      1.38\n",
      " coefs[46]      0.23      0.24      0.26     -0.19      0.51      4.47      1.33\n",
      " coefs[47]     -0.03      0.14     -0.06     -0.15     -0.00      7.72      1.16\n",
      " coefs[48]      0.01      0.30     -0.06     -0.17      0.03      8.60      1.14\n",
      " coefs[49]     -0.22      0.39     -0.04     -1.08      0.00      5.22      1.25\n",
      " coefs[50]     -2.04      3.09     -0.90     -8.55      0.60      7.38      1.14\n",
      " coefs[51]     -0.04      0.29     -0.08     -0.36      0.15      5.45      1.26\n",
      " coefs[52]     -0.06      0.21     -0.08     -0.34      0.14      4.67      1.32\n",
      " coefs[53]     -0.10      0.21     -0.13     -0.35      0.06      5.23      1.27\n",
      " coefs[54]     -2.19      0.48     -2.02     -2.87     -1.64      3.78      1.54\n",
      "\n",
      "\n"
     ]
    }
   ],
   "source": [
    "mcmc = MCMC(NUTS(model), num_warmup=50, num_samples=50, progress_bar=False)\n",
    "tic = time.time()\n",
    "mcmc.run(random.PRNGKey(2019), features, labels,\n",
    "         collect_fields=['z', 'num_steps'], collect_warmup=True)\n",
    "num_leapfrogs = mcmc.get_samples()[1].sum().copy()\n",
    "toc = time.time()\n",
    "print(\"number of leapfrog steps:\", num_leapfrogs)\n",
    "print(\"avg. time for each step :\", (toc - tic) / num_leapfrogs)\n",
    "mcmc.print_summary()"
   ]
  },
  {
   "cell_type": "markdown",
   "metadata": {},
   "source": [
    "In CPU, we get `avg. time for each step : 0.029149702710295957`."
   ]
  },
  {
   "cell_type": "markdown",
   "metadata": {},
   "source": [
    "## Compare to other frameworks"
   ]
  },
  {
   "cell_type": "markdown",
   "metadata": {},
   "source": [
    "|               |    HMC    |    NUTS   |\n",
    "| ------------- |----------:|----------:|\n",
    "| Edward2 (CPU) |           |  56.1 ms  |\n",
    "| Edward2 (GPU) |           |   9.4 ms  |\n",
    "| Pyro (CPU)    |  35.4 ms  |  35.3 ms  |\n",
    "| Pyro (GPU)    |   3.5 ms  |   4.2 ms  |\n",
    "| NumPyro (CPU) |  29.2 ms  |  29.1 ms  |\n",
    "| NumPyro (GPU) |   2.7 ms  |   2.5 ms  |"
   ]
  },
  {
   "cell_type": "markdown",
   "metadata": {},
   "source": [
    "Note that in some situtation, HMC is slower than NUTS. The reason is the number of leapfrog steps in each HMC trajectory is fixed to $10$, while it is not fixed in NUTS."
   ]
  },
  {
   "cell_type": "markdown",
   "metadata": {},
   "source": [
    "**Some takeaways:**\n",
    "+ The overhead of iterative NUTS is pretty small. So most of computation time is indeed spent for evaluating potential function and its gradient.\n",
    "+ GPU outperforms CPU by a large margin. The data is large, so evaluating potential function in GPU is clearly faster than doing so in CPU."
   ]
  },
  {
   "cell_type": "markdown",
   "metadata": {},
   "source": [
    "## References\n",
    "\n",
    "1. `Simple, Distributed, and Accelerated Probabilistic Programming,` [arxiv](https://arxiv.org/abs/1811.02091)<br>\n",
    "Dustin Tran, Matthew D. Hoffman, Dave Moore, Christopher Suter, Srinivas Vasudevan, Alexey Radul, Matthew Johnson, Rif A. Saurous"
   ]
  }
 ],
 "metadata": {
  "kernelspec": {
   "display_name": "Python (pydata)",
   "language": "python",
   "name": "pydata"
  },
  "language_info": {
   "codemirror_mode": {
    "name": "ipython",
    "version": 3
   },
   "file_extension": ".py",
   "mimetype": "text/x-python",
   "name": "python",
   "nbconvert_exporter": "python",
   "pygments_lexer": "ipython3",
   "version": "3.6.9"
  }
 },
 "nbformat": 4,
 "nbformat_minor": 4
}
