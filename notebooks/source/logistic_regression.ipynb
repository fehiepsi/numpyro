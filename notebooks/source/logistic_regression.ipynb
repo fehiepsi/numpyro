{
 "cells": [
  {
   "cell_type": "markdown",
   "metadata": {},
   "source": [
    "# Benchmark NumPyro in large dataset"
   ]
  },
  {
   "cell_type": "markdown",
   "metadata": {},
   "source": [
    "This notebook uses `numpyro` and replicates experiments in references [1] which evaluates the performance of NUTS on various frameworks. The benchmark is run with CUDA 10.1 on a NVIDIA RTX 2070."
   ]
  },
  {
   "cell_type": "code",
   "execution_count": 1,
   "metadata": {},
   "outputs": [],
   "source": [
    "import time\n",
    "\n",
    "import numpy as np\n",
    "\n",
    "import jax.numpy as jnp\n",
    "from jax import random\n",
    "\n",
    "import numpyro\n",
    "import numpyro.distributions as dist\n",
    "from numpyro.examples.datasets import COVTYPE, load_dataset\n",
    "from numpyro.infer import HMC, MCMC, NUTS\n",
    "assert numpyro.__version__.startswith('0.3.0')\n",
    "\n",
    "# NB: replace gpu by cpu to run this notebook in cpu\n",
    "numpyro.set_platform(\"gpu\")"
   ]
  },
  {
   "cell_type": "markdown",
   "metadata": {},
   "source": [
    "We do preprocessing steps as in [source code](https://github.com/google-research/google-research/blob/master/simple_probabilistic_programming/no_u_turn_sampler/logistic_regression.py) of reference [1]:"
   ]
  },
  {
   "cell_type": "code",
   "execution_count": 2,
   "metadata": {},
   "outputs": [
    {
     "name": "stdout",
     "output_type": "stream",
     "text": [
      "Data shape: (581012, 55)\n",
      "Label distribution: 211840 has label 1, 369172 has label 0\n"
     ]
    }
   ],
   "source": [
    "_, fetch = load_dataset(COVTYPE, shuffle=False)\n",
    "features, labels = fetch()\n",
    "\n",
    "# normalize features and add intercept\n",
    "features = (features - features.mean(0)) / features.std(0)\n",
    "features = jnp.hstack([features, jnp.ones((features.shape[0], 1))])\n",
    "\n",
    "# make binary feature\n",
    "_, counts = np.unique(labels, return_counts=True)\n",
    "specific_category = jnp.argmax(counts)\n",
    "labels = (labels == specific_category)\n",
    "\n",
    "N, dim = features.shape\n",
    "print(\"Data shape:\", features.shape)\n",
    "print(\"Label distribution: {} has label 1, {} has label 0\"\n",
    "      .format(labels.sum(), N - labels.sum()))"
   ]
  },
  {
   "cell_type": "markdown",
   "metadata": {},
   "source": [
    "Now, we construct the model:"
   ]
  },
  {
   "cell_type": "code",
   "execution_count": 3,
   "metadata": {},
   "outputs": [],
   "source": [
    "def model(data, labels):\n",
    "    coefs = numpyro.sample('coefs', dist.Normal(jnp.zeros(dim), jnp.ones(dim)))\n",
    "    logits = jnp.dot(data, coefs)\n",
    "    return numpyro.sample('obs', dist.Bernoulli(logits=logits), obs=labels)"
   ]
  },
  {
   "cell_type": "markdown",
   "metadata": {},
   "source": [
    "## Benchmark HMC"
   ]
  },
  {
   "cell_type": "code",
   "execution_count": 4,
   "metadata": {},
   "outputs": [
    {
     "name": "stdout",
     "output_type": "stream",
     "text": [
      "number of leapfrog steps: 5000\n",
      "avg. time for each step : 0.0015829430103302\n",
      "\n",
      "                mean       std    median      5.0%     95.0%     n_eff     r_hat\n",
      "  coefs[0]      1.98      0.00      1.98      1.98      1.98      4.10      1.56\n",
      "  coefs[1]     -0.03      0.00     -0.03     -0.03     -0.03      3.68      1.68\n",
      "  coefs[2]     -0.12      0.00     -0.12     -0.12     -0.12      5.51      1.13\n",
      "  coefs[3]     -0.30      0.00     -0.30     -0.30     -0.30      3.82      1.58\n",
      "  coefs[4]     -0.10      0.00     -0.10     -0.10     -0.10      5.27      1.02\n",
      "  coefs[5]     -0.15      0.00     -0.15     -0.16     -0.15      2.61      3.16\n",
      "  coefs[6]     -0.04      0.00     -0.04     -0.04     -0.04      2.63      2.70\n",
      "  coefs[7]     -0.49      0.00     -0.49     -0.49     -0.49      9.52      1.19\n",
      "  coefs[8]      0.25      0.00      0.25      0.24      0.25      3.27      2.03\n",
      "  coefs[9]     -0.02      0.00     -0.02     -0.02     -0.02      7.07      1.29\n",
      " coefs[10]     -0.23      0.00     -0.23     -0.23     -0.23      3.46      1.62\n",
      " coefs[11]     -0.32      0.00     -0.32     -0.32     -0.32      3.69      1.26\n",
      " coefs[12]     -0.55      0.00     -0.55     -0.55     -0.55      2.73      2.35\n",
      " coefs[13]     -1.96      0.00     -1.96     -1.96     -1.96      2.60      2.70\n",
      " coefs[14]      0.25      0.00      0.25      0.25      0.26      8.79      1.15\n",
      " coefs[15]     -1.05      0.00     -1.05     -1.05     -1.05      4.11      1.72\n",
      " coefs[16]     -1.25      0.00     -1.25     -1.25     -1.25      5.46      1.12\n",
      " coefs[17]     -0.21      0.00     -0.21     -0.21     -0.21      4.67      1.17\n",
      " coefs[18]     -0.08      0.00     -0.08     -0.09     -0.08      2.42      3.03\n",
      " coefs[19]     -0.68      0.00     -0.68     -0.68     -0.68      2.63      2.28\n",
      " coefs[20]     -0.13      0.00     -0.13     -0.13     -0.13      2.92      2.06\n",
      " coefs[21]     -0.02      0.00     -0.02     -0.02     -0.02      7.91      1.20\n",
      " coefs[22]      0.02      0.00      0.02      0.02      0.02      2.84      2.23\n",
      " coefs[23]     -0.15      0.00     -0.15     -0.15     -0.15      2.86      2.37\n",
      " coefs[24]     -0.12      0.00     -0.12     -0.13     -0.12      4.10      1.22\n",
      " coefs[25]     -0.33      0.00     -0.33     -0.33     -0.33      6.50      1.18\n",
      " coefs[26]     -0.18      0.00     -0.18     -0.18     -0.18      3.81      1.25\n",
      " coefs[27]     -1.20      0.00     -1.20     -1.20     -1.20      3.24      1.79\n",
      " coefs[28]     -0.06      0.00     -0.06     -0.06     -0.06      7.77      1.06\n",
      " coefs[29]     -0.02      0.00     -0.02     -0.02     -0.02      6.04      1.29\n",
      " coefs[30]     -0.04      0.00     -0.04     -0.04     -0.04      2.93      2.03\n",
      " coefs[31]     -0.06      0.00     -0.06     -0.06     -0.06      4.97      1.32\n",
      " coefs[32]     -0.02      0.00     -0.02     -0.02     -0.02      6.53      1.03\n",
      " coefs[33]     -0.03      0.00     -0.03     -0.03     -0.03     10.40      1.12\n",
      " coefs[34]      0.11      0.00      0.11      0.11      0.11      6.60      1.21\n",
      " coefs[35]      0.07      0.00      0.07      0.07      0.07      2.61      2.52\n",
      " coefs[36]     -0.00      0.00     -0.00     -0.00     -0.00      8.25      1.13\n",
      " coefs[37]     -0.07      0.00     -0.07     -0.07     -0.07      2.81      2.24\n",
      " coefs[38]     -0.03      0.00     -0.03     -0.03     -0.03      4.04      1.53\n",
      " coefs[39]     -0.06      0.00     -0.06     -0.07     -0.06      7.33      1.14\n",
      " coefs[40]     -0.01      0.00     -0.01     -0.01     -0.00      2.56      2.47\n",
      " coefs[41]     -0.06      0.00     -0.06     -0.06     -0.06      3.05      1.99\n",
      " coefs[42]     -0.39      0.00     -0.39     -0.39     -0.39      2.72      2.37\n",
      " coefs[43]     -0.27      0.00     -0.27     -0.27     -0.27      6.32      1.17\n",
      " coefs[44]     -0.07      0.00     -0.07     -0.07     -0.07      6.21      1.21\n",
      " coefs[45]     -0.25      0.00     -0.25     -0.25     -0.25      2.57      2.51\n",
      " coefs[46]     -0.09      0.00     -0.09     -0.09     -0.09      8.37      1.06\n",
      " coefs[47]     -0.12      0.00     -0.12     -0.12     -0.12      3.07      1.81\n",
      " coefs[48]     -0.15      0.00     -0.15     -0.15     -0.15      4.74      1.36\n",
      " coefs[49]     -0.04      0.00     -0.04     -0.05     -0.04      3.05      2.22\n",
      " coefs[50]     -0.95      0.00     -0.95     -0.95     -0.95      8.14      1.00\n",
      " coefs[51]     -0.32      0.00     -0.32     -0.32     -0.32      4.03      1.76\n",
      " coefs[52]     -0.30      0.00     -0.30     -0.30     -0.29     13.63      1.01\n",
      " coefs[53]     -0.30      0.00     -0.30     -0.30     -0.30      8.20      1.02\n",
      " coefs[54]     -1.76      0.00     -1.76     -1.76     -1.76      3.04      1.66\n",
      "\n",
      "Number of divergences: 0\n"
     ]
    }
   ],
   "source": [
    "step_size = jnp.sqrt(0.5 / N)\n",
    "kernel = HMC(model, step_size=step_size, trajectory_length=(10 * step_size), adapt_step_size=False)\n",
    "mcmc = MCMC(kernel, num_warmup=500, num_samples=500, progress_bar=False)\n",
    "mcmc.warmup(random.PRNGKey(2019), features, labels, extra_fields=('num_steps',))\n",
    "mcmc.get_extra_fields()['num_steps'].sum().copy()\n",
    "tic = time.time()\n",
    "mcmc.run(random.PRNGKey(2020), features, labels, extra_fields=['num_steps'])\n",
    "num_leapfrogs = mcmc.get_extra_fields()['num_steps'].sum().copy()\n",
    "toc = time.time()\n",
    "print(\"number of leapfrog steps:\", num_leapfrogs)\n",
    "print(\"avg. time for each step :\", (toc - tic) / num_leapfrogs)\n",
    "mcmc.print_summary()"
   ]
  },
  {
   "cell_type": "markdown",
   "metadata": {},
   "source": [
    "In CPU, we get `avg. time for each step : 0.02782863507270813`."
   ]
  },
  {
   "cell_type": "markdown",
   "metadata": {},
   "source": [
    "## Benchmark NUTS"
   ]
  },
  {
   "cell_type": "code",
   "execution_count": 5,
   "metadata": {},
   "outputs": [
    {
     "name": "stdout",
     "output_type": "stream",
     "text": [
      "number of leapfrog steps: 48238\n",
      "avg. time for each step : 0.002193006909087827\n",
      "\n",
      "                mean       std    median      5.0%     95.0%     n_eff     r_hat\n",
      "  coefs[0]      1.98      0.01      1.98      1.96      1.99     52.40      0.99\n",
      "  coefs[1]     -0.04      0.01     -0.04     -0.05     -0.04     55.51      0.98\n",
      "  coefs[2]     -0.06      0.01     -0.06     -0.08     -0.05     41.29      0.99\n",
      "  coefs[3]     -0.30      0.00     -0.30     -0.31     -0.30     46.64      1.01\n",
      "  coefs[4]     -0.09      0.00     -0.09     -0.10     -0.09    110.57      0.98\n",
      "  coefs[5]     -0.14      0.00     -0.14     -0.15     -0.14     20.64      1.11\n",
      "  coefs[6]      0.24      0.05      0.24      0.17      0.31     33.80      1.02\n",
      "  coefs[7]     -0.66      0.03     -0.66     -0.69     -0.61     35.12      1.04\n",
      "  coefs[8]      0.58      0.06      0.58      0.49      0.65     33.92      1.03\n",
      "  coefs[9]     -0.01      0.00     -0.01     -0.02     -0.01     44.05      0.99\n",
      " coefs[10]      0.65      0.82      0.65     -0.89      1.53      9.97      0.99\n",
      " coefs[11]      0.06      0.36      0.06     -0.62      0.45     10.02      0.99\n",
      " coefs[12]      0.33      0.81      0.34     -1.20      1.21      9.97      0.99\n",
      " coefs[13]     -1.51      0.42     -1.57     -2.11     -0.81      9.45      0.98\n",
      " coefs[14]     -0.54      0.65     -0.40     -1.26      0.23     13.26      1.01\n",
      " coefs[15]     -1.94      0.52     -2.00     -2.67     -1.21      4.10      1.15\n",
      " coefs[16]     -1.02      0.51     -0.93     -1.86     -0.24     29.83      0.98\n",
      " coefs[17]     -0.19      0.08     -0.20     -0.31     -0.07      4.02      2.09\n",
      " coefs[18]     -0.56      0.59     -0.44     -1.47      0.21      7.52      1.22\n",
      " coefs[19]     -0.92      0.68     -0.96     -1.81      0.15      6.34      1.17\n",
      " coefs[20]     -0.99      0.70     -0.79     -2.20     -0.09     13.80      1.31\n",
      " coefs[21]     -0.01      0.01     -0.01     -0.02      0.01      3.98      2.13\n",
      " coefs[22]      0.02      0.02      0.02     -0.01      0.06      4.20      2.06\n",
      " coefs[23]     -0.13      0.13     -0.14     -0.32      0.07      3.77      2.13\n",
      " coefs[24]     -0.10      0.08     -0.11     -0.22      0.02      3.92      2.14\n",
      " coefs[25]     -0.30      0.12     -0.31     -0.47     -0.10      3.98      2.14\n",
      " coefs[26]     -0.14      0.09     -0.15     -0.28      0.01      3.91      2.18\n",
      " coefs[27]     -0.87      0.63     -0.81     -1.90     -0.08     19.96      1.00\n",
      " coefs[28]     -0.85      0.65     -0.69     -1.90     -0.04     30.40      0.98\n",
      " coefs[29]     -0.02      0.04     -0.03     -0.07      0.04      3.85      2.21\n",
      " coefs[30]     -0.03      0.04     -0.03     -0.09      0.04      4.50      2.02\n",
      " coefs[31]     -0.05      0.03     -0.06     -0.10     -0.01      3.84      2.12\n",
      " coefs[32]     -0.00      0.05     -0.01     -0.07      0.07      3.94      2.14\n",
      " coefs[33]      0.02      0.07      0.01     -0.08      0.13      3.99      2.13\n",
      " coefs[34]      0.11      0.02      0.11      0.07      0.14      4.33      1.89\n",
      " coefs[35]      0.09      0.13      0.08     -0.10      0.29      4.02      2.12\n",
      " coefs[36]      0.02      0.17      0.01     -0.22      0.30      3.98      2.13\n",
      " coefs[37]     -0.03      0.10     -0.04     -0.19      0.13      3.92      2.15\n",
      " coefs[38]     -0.04      0.02     -0.04     -0.07     -0.02      4.21      2.12\n",
      " coefs[39]     -0.06      0.04     -0.06     -0.11      0.01      4.18      2.12\n",
      " coefs[40]      0.01      0.02      0.00     -0.03      0.04      3.92      2.15\n",
      " coefs[41]     -0.05      0.02     -0.05     -0.08     -0.01      4.16      1.99\n",
      " coefs[42]     -0.37      0.22     -0.39     -0.70     -0.02      3.95      2.15\n",
      " coefs[43]     -0.24      0.12     -0.25     -0.42     -0.05      3.93      2.16\n",
      " coefs[44]     -0.04      0.11     -0.05     -0.21      0.13      3.94      2.14\n",
      " coefs[45]     -0.19      0.16     -0.21     -0.44      0.06      4.00      2.12\n",
      " coefs[46]     -0.06      0.15     -0.08     -0.28      0.18      3.93      2.16\n",
      " coefs[47]     -0.13      0.03     -0.13     -0.18     -0.09      4.26      2.09\n",
      " coefs[48]     -0.13      0.03     -0.14     -0.18     -0.08      4.00      2.17\n",
      " coefs[49]     -0.04      0.01     -0.04     -0.05     -0.02      5.36      1.63\n",
      " coefs[50]     -1.36      0.31     -1.36     -1.84     -0.86      7.24      0.99\n",
      " coefs[51]     -0.28      0.09     -0.30     -0.42     -0.15      3.99      2.12\n",
      " coefs[52]     -0.27      0.08     -0.28     -0.40     -0.14      3.98      2.12\n",
      " coefs[53]     -0.28      0.07     -0.29     -0.40     -0.18      4.02      2.12\n",
      " coefs[54]     -1.98      0.14     -1.99     -2.19     -1.80     28.80      1.00\n",
      "\n",
      "Number of divergences: 0\n"
     ]
    }
   ],
   "source": [
    "mcmc = MCMC(NUTS(model), num_warmup=50, num_samples=50, progress_bar=False)\n",
    "mcmc.warmup(random.PRNGKey(2019), features, labels, extra_fields=('num_steps',))\n",
    "mcmc.get_extra_fields()['num_steps'].sum().copy()\n",
    "tic = time.time()\n",
    "mcmc.run(random.PRNGKey(2020), features, labels, extra_fields=['num_steps'])\n",
    "num_leapfrogs = mcmc.get_extra_fields()['num_steps'].sum().copy()\n",
    "toc = time.time()\n",
    "print(\"number of leapfrog steps:\", num_leapfrogs)\n",
    "print(\"avg. time for each step :\", (toc - tic) / num_leapfrogs)\n",
    "mcmc.print_summary()"
   ]
  },
  {
   "cell_type": "markdown",
   "metadata": {},
   "source": [
    "In CPU, we get `avg. time for each step : 0.028006251705287415`."
   ]
  },
  {
   "cell_type": "markdown",
   "metadata": {},
   "source": [
    "## Compare to other frameworks"
   ]
  },
  {
   "cell_type": "markdown",
   "metadata": {},
   "source": [
    "|               |    HMC    |    NUTS   |\n",
    "| ------------- |----------:|----------:|\n",
    "| Edward2 (CPU) |           |  56.1 ms  |\n",
    "| Edward2 (GPU) |           |   9.4 ms  |\n",
    "| Pyro (CPU)    |  35.4 ms  |  35.3 ms  |\n",
    "| Pyro (GPU)    |   3.5 ms  |   4.2 ms  |\n",
    "| NumPyro (CPU) |  27.8 ms  |  28.0 ms  |\n",
    "| NumPyro (GPU) |   1.6 ms  |   2.2 ms  |"
   ]
  },
  {
   "cell_type": "markdown",
   "metadata": {},
   "source": [
    "Note that in some situtation, HMC is slower than NUTS. The reason is the number of leapfrog steps in each HMC trajectory is fixed to $10$, while it is not fixed in NUTS."
   ]
  },
  {
   "cell_type": "markdown",
   "metadata": {},
   "source": [
    "**Some takeaways:**\n",
    "+ The overhead of iterative NUTS is pretty small. So most of computation time is indeed spent for evaluating potential function and its gradient.\n",
    "+ GPU outperforms CPU by a large margin. The data is large, so evaluating potential function in GPU is clearly faster than doing so in CPU."
   ]
  },
  {
   "cell_type": "markdown",
   "metadata": {},
   "source": [
    "## References\n",
    "\n",
    "1. `Simple, Distributed, and Accelerated Probabilistic Programming,` [arxiv](https://arxiv.org/abs/1811.02091)<br>\n",
    "Dustin Tran, Matthew D. Hoffman, Dave Moore, Christopher Suter, Srinivas Vasudevan, Alexey Radul, Matthew Johnson, Rif A. Saurous"
   ]
  }
 ],
 "metadata": {
  "kernelspec": {
   "display_name": "Python (pydata)",
   "language": "python",
   "name": "pydata"
  },
  "language_info": {
   "codemirror_mode": {
    "name": "ipython",
    "version": 3
   },
   "file_extension": ".py",
   "mimetype": "text/x-python",
   "name": "python",
   "nbconvert_exporter": "python",
   "pygments_lexer": "ipython3",
   "version": "3.6.10"
  }
 },
 "nbformat": 4,
 "nbformat_minor": 4
}
